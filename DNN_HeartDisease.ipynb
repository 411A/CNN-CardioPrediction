{
 "cells": [
  {
   "cell_type": "markdown",
   "metadata": {},
   "source": [
    "# DNN using Heart stroke data "
   ]
  },
  {
   "cell_type": "markdown",
   "metadata": {},
   "source": [
    "This work is aiming at the design and testing of a deep neural network architecture on Heart attack(1), Congestive heart disease(2), Coronary heart disease(3), and Stroke(4) using Tensorflow and Keras."
   ]
  },
  {
   "cell_type": "code",
   "execution_count": 121,
   "metadata": {},
   "outputs": [],
   "source": [
    "import numpy as np\n",
    "import copy\n",
    "from sklearn import preprocessing\n",
    "import tensorflow as tf\n",
    "from tensorflow import keras\n",
    "import os\n",
    "import pandas as pd\n",
    "from matplotlib import pyplot as plt\n",
    "from numpy.random import seed\n",
    "np.random.seed(2095)\n",
    "from sklearn.metrics import confusion_matrix\n",
    "from sklearn.metrics import roc_curve\n",
    "from sklearn.metrics import auc"
   ]
  },
  {
   "cell_type": "code",
   "execution_count": 122,
   "metadata": {
    "scrolled": false
   },
   "outputs": [
    {
     "name": "stdout",
     "output_type": "stream",
     "text": [
      "Index(['SEQN', 'Gender', 'Age', 'Annual-Family-Income',\n",
      "       'Ratio-Family-Income-Poverty', 'X60-sec-pulse', 'Systolic', 'Diastolic',\n",
      "       'Weight', 'Height', 'Body-Mass-Index', 'White-Blood-Cells',\n",
      "       'Lymphocyte', 'Monocyte', 'Eosinophils', 'Basophils', 'Red-Blood-Cells',\n",
      "       'Hemoglobin', 'Mean-Cell-Vol', 'Mean-Cell-Hgb-Conc.',\n",
      "       'Mean-cell-Hemoglobin', 'Platelet-count', 'Mean-Platelet-Vol',\n",
      "       'Segmented-Neutrophils', 'Hematocrit', 'Red-Cell-Distribution-Width',\n",
      "       'Albumin', 'ALP', 'AST', 'ALT', 'Cholesterol', 'Creatinine', 'Glucose',\n",
      "       'GGT', 'Iron', 'LDH', 'Phosphorus', 'Bilirubin', 'Protein', 'Uric.Acid',\n",
      "       'Triglycerides', 'Total-Cholesterol', 'HDL', 'Glycohemoglobin',\n",
      "       'Vigorous-work', 'Moderate-work', 'Health-Insurance', 'Diabetes',\n",
      "       'Blood-Rel-Diabetes', 'Blood-Rel-Stroke', 'CoronaryHeartDisease'],\n",
      "      dtype='object')\n"
     ]
    }
   ],
   "source": [
    "# read input file\n",
    "file = '/Users/devil/Dropbox/CardiacPrediction.xlsx'\n",
    "ipData = pd.read_excel(file, sheet_name='CoroHeartDis')\n",
    "print(ipData.columns) "
   ]
  },
  {
   "cell_type": "code",
   "execution_count": 123,
   "metadata": {},
   "outputs": [],
   "source": [
    "# data drop\n",
    "opLabel = np.array(ipData['CoronaryHeartDisease'])\n",
    "ipData.drop(['SEQN','CoronaryHeartDisease','Annual-Family-Income','Height','Ratio-Family-Income-Poverty',\n",
    "             'X60-sec-pulse','Health-Insurance','Lymphocyte','Monocyte','Eosinophils','Total-Cholesterol',\n",
    "             'Mean-Cell-Vol','Mean-Cell-Hgb-Conc.','Hematocrit','Segmented-Neutrophils'], axis = 1, inplace=True)"
   ]
  },
  {
   "cell_type": "code",
   "execution_count": 124,
   "metadata": {},
   "outputs": [],
   "source": [
    "# dummy variable for categorical variables\n",
    "ipData = pd.get_dummies(ipData,columns=[\"Gender\",\"Diabetes\",\"Blood-Rel-Diabetes\",\"Blood-Rel-Stroke\",\"Vigorous-work\",\"Moderate-work\"]) \n",
    "\n",
    "varb = np.array(ipData.columns)\n",
    "ipData = np.array(ipData)"
   ]
  },
  {
   "cell_type": "code",
   "execution_count": 125,
   "metadata": {
    "scrolled": true
   },
   "outputs": [
    {
     "name": "stdout",
     "output_type": "stream",
     "text": [
      "(37079, 54)\n",
      "['Age' 'Systolic' 'Diastolic' 'Weight' 'Body-Mass-Index'\n",
      " 'White-Blood-Cells' 'Basophils' 'Red-Blood-Cells' 'Hemoglobin'\n",
      " 'Mean-cell-Hemoglobin' 'Platelet-count' 'Mean-Platelet-Vol'\n",
      " 'Red-Cell-Distribution-Width' 'Albumin' 'ALP' 'AST' 'ALT' 'Cholesterol'\n",
      " 'Creatinine' 'Glucose' 'GGT' 'Iron' 'LDH' 'Phosphorus' 'Bilirubin'\n",
      " 'Protein' 'Uric.Acid' 'Triglycerides' 'HDL' 'Glycohemoglobin' 'Gender_1'\n",
      " 'Gender_2' 'Diabetes_1' 'Diabetes_2' 'Diabetes_3' 'Diabetes_9'\n",
      " 'Blood-Rel-Diabetes_1' 'Blood-Rel-Diabetes_2' 'Blood-Rel-Diabetes_7'\n",
      " 'Blood-Rel-Diabetes_9' 'Blood-Rel-Stroke_1' 'Blood-Rel-Stroke_2'\n",
      " 'Blood-Rel-Stroke_7' 'Blood-Rel-Stroke_9' 'Vigorous-work_1'\n",
      " 'Vigorous-work_2' 'Vigorous-work_3' 'Vigorous-work_7' 'Vigorous-work_9'\n",
      " 'Moderate-work_1' 'Moderate-work_2' 'Moderate-work_3' 'Moderate-work_7'\n",
      " 'Moderate-work_9']\n",
      "35571\n",
      "1508\n"
     ]
    }
   ],
   "source": [
    "print(ipData.shape)\n",
    "print(varb)\n",
    "print(len(opLabel[opLabel==0]))\n",
    "print(len(opLabel[opLabel==1]))"
   ]
  },
  {
   "cell_type": "code",
   "execution_count": 126,
   "metadata": {},
   "outputs": [
    {
     "name": "stdout",
     "output_type": "stream",
     "text": [
      "(54,)\n"
     ]
    }
   ],
   "source": [
    "#Data condensation using LASSO penalty\n",
    "from sklearn.linear_model import Lasso, LogisticRegression\n",
    "\n",
    "\n",
    "featureVote = np.zeros(ipData.shape[1])\n",
    "print(featureVote.shape)\n",
    "\n",
    "iteR = 100\n",
    "\n",
    "for num in range(iteR):\n",
    "    label0_indx = np.where(opLabel==0)[0]   #no cardiac arrest\n",
    "    label1_indx = np.where(opLabel==1)[0]   #cardiac arrest \n",
    "    numTrainData0 = 1500\n",
    "    numTrainData1 = 1300\n",
    "    np.random.shuffle(label0_indx)\n",
    "    np.random.shuffle(label1_indx)\n",
    "    \n",
    "    label0_indx_train = label0_indx[0:numTrainData0-1]\n",
    "    label1_indx_train = label1_indx[0:numTrainData1-1]\n",
    "    label0_indx_test  = label0_indx[numTrainData0-1:]\n",
    "    label1_indx_test  = label1_indx[numTrainData1-1:]\n",
    "    \n",
    "    testIndx  = np.append(label0_indx_test,label1_indx_test)\n",
    "    trainIndx = np.append(label0_indx_train,label1_indx_train)    \n",
    "    trainData  =  ipData[trainIndx]\n",
    "    trainLabel =  opLabel[trainIndx]\n",
    "    testData   =  ipData[testIndx]\n",
    "    testLabel  =  opLabel[testIndx]    \n",
    "    \n",
    "    ##%% data standardization\n",
    "    scaler = preprocessing.StandardScaler().fit(trainData)\n",
    "    trainData_scaled = scaler.transform(trainData)\n",
    "    testData_scaled  = scaler.transform(testData)\n",
    "    \n",
    "    ##%% Elastic net and Lasso from scikit\n",
    "    #regr = ElasticNet(random_state=0, alpha=1, l1_ratio=0.03, tol=0.000001, max_iter=100000)\n",
    "    regr = Lasso(random_state=0, alpha=0.006, tol=0.000001, max_iter=100000)\n",
    "    #regr = LogisticRegression(penalty='l1',random_state=0,C=100,tol=0.000001,max_iter=100,class_weight='balanced')\n",
    "    regr.fit(trainData_scaled,trainLabel)\n",
    "    cof = np.abs(regr.coef_)    \n",
    "    colIndx = np.where(cof != 0)[0]\n",
    "    for col in colIndx:\n",
    "        featureVote[col]+=1"
   ]
  },
  {
   "cell_type": "code",
   "execution_count": 127,
   "metadata": {
    "scrolled": false
   },
   "outputs": [
    {
     "name": "stdout",
     "output_type": "stream",
     "text": [
      "[100.  35.  89.  33.  12.  91.  51.  76.   5.  17. 100.  47. 100.  46.\n",
      "  33.  22.   9. 100.  90.  15.  36.  30. 100.  24.  40.  26. 100.  99.\n",
      "  98.  98. 100.  49.  86.  81.   7.  75.  58.  40.  13.  23.  98.  89.\n",
      "  14.   1.  15.   9.  88.   6.   3.   2.  97.  62.   6.   7.]\n"
     ]
    }
   ],
   "source": [
    "print(featureVote)"
   ]
  },
  {
   "cell_type": "code",
   "execution_count": 128,
   "metadata": {
    "scrolled": false
   },
   "outputs": [
    {
     "name": "stdout",
     "output_type": "stream",
     "text": [
      "['Age' 'Systolic' 'Diastolic' 'Weight' 'White-Blood-Cells' 'Basophils'\n",
      " 'Red-Blood-Cells' 'Mean-cell-Hemoglobin' 'Platelet-count'\n",
      " 'Mean-Platelet-Vol' 'Red-Cell-Distribution-Width' 'Albumin' 'ALP' 'AST'\n",
      " 'Cholesterol' 'Creatinine' 'GGT' 'Iron' 'LDH' 'Phosphorus' 'Bilirubin'\n",
      " 'Protein' 'Uric.Acid' 'Triglycerides' 'HDL' 'Glycohemoglobin' 'Gender_1'\n",
      " 'Gender_2' 'Diabetes_1' 'Diabetes_2' 'Diabetes_3' 'Diabetes_9'\n",
      " 'Blood-Rel-Diabetes_1' 'Blood-Rel-Diabetes_2' 'Blood-Rel-Diabetes_7'\n",
      " 'Blood-Rel-Diabetes_9' 'Blood-Rel-Stroke_1' 'Blood-Rel-Stroke_2'\n",
      " 'Blood-Rel-Stroke_7' 'Blood-Rel-Stroke_9' 'Vigorous-work_1'\n",
      " 'Vigorous-work_2' 'Vigorous-work_3' 'Vigorous-work_7' 'Vigorous-work_9'\n",
      " 'Moderate-work_1' 'Moderate-work_2' 'Moderate-work_3' 'Moderate-work_7'\n",
      " 'Moderate-work_9']\n"
     ]
    }
   ],
   "source": [
    "# feature nomination via Lasso (from feature 1 to 35)\n",
    "# We keep the dummy variables\n",
    "\n",
    "featureIndx = np.where(featureVote[0:30]>=iteR//6)[0]\n",
    "featureIndx = np.append(featureIndx, np.arange(30,ipData.shape[1]))\n",
    "print(varb[featureIndx])"
   ]
  },
  {
   "cell_type": "code",
   "execution_count": 129,
   "metadata": {},
   "outputs": [
    {
     "data": {
      "text/plain": [
       "(50,)"
      ]
     },
     "execution_count": 129,
     "metadata": {},
     "output_type": "execute_result"
    }
   ],
   "source": [
    "featureIndx.shape"
   ]
  },
  {
   "cell_type": "markdown",
   "metadata": {},
   "source": [
    "# Dataset reduction (Re-run every time you change the number of training data)"
   ]
  },
  {
   "cell_type": "code",
   "execution_count": 130,
   "metadata": {},
   "outputs": [],
   "source": [
    "reduced_data = ipData[:,featureIndx]\n",
    "\n",
    "label0_indx = np.where(opLabel==0)[0]   #no cardiac arrest\n",
    "label1_indx = np.where(opLabel==1)[0]   #cardiac arrest \n",
    "numTrainData0 = 1500\n",
    "numTrainData1 = 1300\n",
    "np.random.shuffle(label0_indx)\n",
    "np.random.shuffle(label1_indx)\n",
    "\n",
    "label0_indx_train = label0_indx[0:numTrainData0]\n",
    "label1_indx_train = label1_indx[0:numTrainData1]\n",
    "label0_indx_test  = label0_indx[numTrainData0:]\n",
    "label1_indx_test  = label1_indx[numTrainData1:]\n",
    "\n",
    "testIndx  = np.append(label0_indx_test,label1_indx_test)\n",
    "trainIndx = np.append(label0_indx_train,label1_indx_train)    \n",
    "x_train  =  reduced_data[trainIndx]\n",
    "y_train  =  opLabel[trainIndx]\n",
    "x_test   =  reduced_data[testIndx]\n",
    "y_test   =  opLabel[testIndx]    "
   ]
  },
  {
   "cell_type": "code",
   "execution_count": 131,
   "metadata": {},
   "outputs": [],
   "source": [
    "scaler = preprocessing.StandardScaler().fit(x_train)\n",
    "x_train = scaler.transform(x_train)\n",
    "x_test  = scaler.transform(x_test)"
   ]
  },
  {
   "cell_type": "code",
   "execution_count": 132,
   "metadata": {},
   "outputs": [],
   "source": [
    "x_train = x_train.reshape(x_train.shape[0],x_train.shape[1],1)\n",
    "x_test = x_test.reshape(x_test.shape[0],x_test.shape[1],1)"
   ]
  },
  {
   "cell_type": "code",
   "execution_count": 133,
   "metadata": {},
   "outputs": [],
   "source": [
    "#%% one-hot-encoding\n",
    "y_train = keras.utils.to_categorical(y_train,2)\n",
    "y_test  = keras.utils.to_categorical(y_test,2)"
   ]
  },
  {
   "cell_type": "code",
   "execution_count": 134,
   "metadata": {},
   "outputs": [
    {
     "data": {
      "text/plain": [
       "(2800, 2)"
      ]
     },
     "execution_count": 134,
     "metadata": {},
     "output_type": "execute_result"
    }
   ],
   "source": [
    "y_train.shape"
   ]
  },
  {
   "cell_type": "markdown",
   "metadata": {},
   "source": [
    "# Running the part above is MANDATORY for training any Network below"
   ]
  },
  {
   "cell_type": "markdown",
   "metadata": {},
   "source": [
    "## MLP only"
   ]
  },
  {
   "cell_type": "code",
   "execution_count": 16,
   "metadata": {
    "scrolled": true
   },
   "outputs": [
    {
     "name": "stdout",
     "output_type": "stream",
     "text": [
      "_________________________________________________________________\n",
      "Layer (type)                 Output Shape              Param #   \n",
      "=================================================================\n",
      "input_1 (InputLayer)         (None, 50, 1)             0         \n",
      "_________________________________________________________________\n",
      "reshape_1 (Reshape)          (None, 50)                0         \n",
      "_________________________________________________________________\n",
      "dense_1 (Dense)              (None, 512)               26112     \n",
      "_________________________________________________________________\n",
      "batch_normalization_1 (Batch (None, 512)               2048      \n",
      "_________________________________________________________________\n",
      "activation_1 (Activation)    (None, 512)               0         \n",
      "_________________________________________________________________\n",
      "dropout_1 (Dropout)          (None, 512)               0         \n",
      "_________________________________________________________________\n",
      "dense_2 (Dense)              (None, 128)               65664     \n",
      "_________________________________________________________________\n",
      "batch_normalization_2 (Batch (None, 128)               512       \n",
      "_________________________________________________________________\n",
      "activation_2 (Activation)    (None, 128)               0         \n",
      "_________________________________________________________________\n",
      "dropout_2 (Dropout)          (None, 128)               0         \n",
      "_________________________________________________________________\n",
      "dense_3 (Dense)              (None, 2)                 258       \n",
      "_________________________________________________________________\n",
      "activation_3 (Activation)    (None, 2)                 0         \n",
      "=================================================================\n",
      "Total params: 94,594\n",
      "Trainable params: 93,314\n",
      "Non-trainable params: 1,280\n",
      "_________________________________________________________________\n"
     ]
    }
   ],
   "source": [
    "# MLP -2\n",
    "inputs = keras.layers.Input(shape=(x_train.shape[1],1))\n",
    "RS0    = keras.layers.Reshape((x_train.shape[1], ))(inputs)\n",
    "FC0    = keras.layers.Dense(512, bias_initializer=keras.initializers.VarianceScaling())(RS0)\n",
    "BN0    = keras.layers.BatchNormalization(axis=-1)(FC0)\n",
    "AC0    = keras.layers.Activation('relu')(BN0)\n",
    "DP0    = keras.layers.Dropout(0.2)(AC0)\n",
    "\n",
    "FC1    = keras.layers.Dense(128, bias_initializer=keras.initializers.VarianceScaling())(DP0)\n",
    "BN1    = keras.layers.BatchNormalization(axis=-1)(FC1)\n",
    "AC1    = keras.layers.Activation('relu')(BN1)\n",
    "DP1    = keras.layers.Dropout(0.2)(AC1)\n",
    "\n",
    "\n",
    "FC2 =   keras.layers.Dense(2, bias_initializer=keras.initializers.VarianceScaling())(DP1)\n",
    "outputs = keras.layers.Activation('softmax')(FC2)\n",
    "\n",
    "myMLP = keras.Model(inputs=inputs,outputs=outputs)\n",
    "myMLP.compile(optimizer=keras.optimizers.Adam(lr=0.01),\n",
    "                 loss='categorical_crossentropy',\n",
    "                 metrics=['accuracy'])\n",
    "myMLP.summary()"
   ]
  },
  {
   "cell_type": "code",
   "execution_count": 17,
   "metadata": {
    "scrolled": true
   },
   "outputs": [
    {
     "name": "stdout",
     "output_type": "stream",
     "text": [
      "Epoch 1/50\n",
      "5300/5300 [==============================] - 1s 241us/step - loss: 2.0520 - acc: 0.5638\n",
      "Epoch 2/50\n",
      "5300/5300 [==============================] - 0s 28us/step - loss: 1.3106 - acc: 0.7134\n",
      "Epoch 3/50\n",
      "5300/5300 [==============================] - 0s 27us/step - loss: 1.1359 - acc: 0.6625\n",
      "Epoch 4/50\n",
      "5300/5300 [==============================] - 0s 26us/step - loss: 1.0491 - acc: 0.6904\n",
      "Epoch 5/50\n",
      "5300/5300 [==============================] - 0s 28us/step - loss: 1.0230 - acc: 0.7013\n",
      "Epoch 6/50\n",
      "5300/5300 [==============================] - 0s 28us/step - loss: 0.9903 - acc: 0.7043\n",
      "Epoch 7/50\n",
      "5300/5300 [==============================] - 0s 27us/step - loss: 0.9640 - acc: 0.7177\n",
      "Epoch 8/50\n",
      "5300/5300 [==============================] - 0s 28us/step - loss: 0.9448 - acc: 0.7174\n",
      "Epoch 9/50\n",
      "5300/5300 [==============================] - 0s 28us/step - loss: 0.9177 - acc: 0.7160\n",
      "Epoch 10/50\n",
      "5300/5300 [==============================] - 0s 29us/step - loss: 0.8727 - acc: 0.7328\n",
      "Epoch 11/50\n",
      "5300/5300 [==============================] - 0s 33us/step - loss: 0.8597 - acc: 0.7521\n",
      "Epoch 12/50\n",
      "5300/5300 [==============================] - 0s 30us/step - loss: 0.8455 - acc: 0.7447\n",
      "Epoch 13/50\n",
      "5300/5300 [==============================] - 0s 28us/step - loss: 0.7964 - acc: 0.7575\n",
      "Epoch 14/50\n",
      "5300/5300 [==============================] - 0s 30us/step - loss: 0.7963 - acc: 0.7577\n",
      "Epoch 15/50\n",
      "5300/5300 [==============================] - 0s 27us/step - loss: 0.7858 - acc: 0.7774\n",
      "Epoch 16/50\n",
      "5300/5300 [==============================] - 0s 35us/step - loss: 0.7966 - acc: 0.7645\n",
      "Epoch 17/50\n",
      "5300/5300 [==============================] - 0s 38us/step - loss: 0.7475 - acc: 0.7768\n",
      "Epoch 18/50\n",
      "5300/5300 [==============================] - 0s 35us/step - loss: 0.7306 - acc: 0.7862\n",
      "Epoch 19/50\n",
      "5300/5300 [==============================] - 0s 36us/step - loss: 0.7043 - acc: 0.7853\n",
      "Epoch 20/50\n",
      "5300/5300 [==============================] - 0s 31us/step - loss: 0.6571 - acc: 0.8100\n",
      "Epoch 21/50\n",
      "5300/5300 [==============================] - 0s 28us/step - loss: 0.6358 - acc: 0.8072\n",
      "Epoch 22/50\n",
      "5300/5300 [==============================] - 0s 30us/step - loss: 0.6394 - acc: 0.8175\n",
      "Epoch 23/50\n",
      "5300/5300 [==============================] - 0s 28us/step - loss: 0.6380 - acc: 0.8085\n",
      "Epoch 24/50\n",
      "5300/5300 [==============================] - 0s 35us/step - loss: 0.6362 - acc: 0.8126\n",
      "Epoch 25/50\n",
      "5300/5300 [==============================] - 0s 30us/step - loss: 0.5891 - acc: 0.8323\n",
      "Epoch 26/50\n",
      "5300/5300 [==============================] - 0s 29us/step - loss: 0.5538 - acc: 0.8317\n",
      "Epoch 27/50\n",
      "5300/5300 [==============================] - 0s 29us/step - loss: 0.5374 - acc: 0.8385\n",
      "Epoch 28/50\n",
      "5300/5300 [==============================] - 0s 29us/step - loss: 0.5305 - acc: 0.8523\n",
      "Epoch 29/50\n",
      "5300/5300 [==============================] - 0s 34us/step - loss: 0.5390 - acc: 0.8470\n",
      "Epoch 30/50\n",
      "5300/5300 [==============================] - 0s 39us/step - loss: 0.5555 - acc: 0.8353\n",
      "Epoch 31/50\n",
      "5300/5300 [==============================] - 0s 39us/step - loss: 0.5697 - acc: 0.8349\n",
      "Epoch 32/50\n",
      "5300/5300 [==============================] - 0s 39us/step - loss: 0.5321 - acc: 0.8623\n",
      "Epoch 33/50\n",
      "5300/5300 [==============================] - 0s 43us/step - loss: 0.5371 - acc: 0.8389\n",
      "Epoch 34/50\n",
      "5300/5300 [==============================] - 0s 37us/step - loss: 0.5194 - acc: 0.8455\n",
      "Epoch 35/50\n",
      "5300/5300 [==============================] - 0s 33us/step - loss: 0.4833 - acc: 0.8628\n",
      "Epoch 36/50\n",
      "5300/5300 [==============================] - 0s 41us/step - loss: 0.4800 - acc: 0.8598\n",
      "Epoch 37/50\n",
      "5300/5300 [==============================] - 0s 37us/step - loss: 0.4454 - acc: 0.8683\n",
      "Epoch 38/50\n",
      "5300/5300 [==============================] - 0s 37us/step - loss: 0.4312 - acc: 0.8813\n",
      "Epoch 39/50\n",
      "5300/5300 [==============================] - 0s 38us/step - loss: 0.4207 - acc: 0.8832\n",
      "Epoch 40/50\n",
      "5300/5300 [==============================] - 0s 39us/step - loss: 0.3878 - acc: 0.8968\n",
      "Epoch 41/50\n",
      "5300/5300 [==============================] - 0s 37us/step - loss: 0.4006 - acc: 0.8821\n",
      "Epoch 42/50\n",
      "5300/5300 [==============================] - 0s 37us/step - loss: 0.3653 - acc: 0.8940\n",
      "Epoch 43/50\n",
      "5300/5300 [==============================] - 0s 32us/step - loss: 0.3806 - acc: 0.8858\n",
      "Epoch 44/50\n",
      "5300/5300 [==============================] - 0s 38us/step - loss: 0.3771 - acc: 0.8932\n",
      "Epoch 45/50\n",
      "5300/5300 [==============================] - 0s 29us/step - loss: 0.3465 - acc: 0.9096\n",
      "Epoch 46/50\n",
      "5300/5300 [==============================] - 0s 28us/step - loss: 0.3619 - acc: 0.8972\n",
      "Epoch 47/50\n",
      "5300/5300 [==============================] - 0s 32us/step - loss: 0.3460 - acc: 0.9119\n",
      "Epoch 48/50\n",
      "5300/5300 [==============================] - 0s 38us/step - loss: 0.3246 - acc: 0.9094\n",
      "Epoch 49/50\n",
      "5300/5300 [==============================] - 0s 38us/step - loss: 0.3366 - acc: 0.9045\n",
      "Epoch 50/50\n",
      "5300/5300 [==============================] - 0s 40us/step - loss: 0.3343 - acc: 0.9064\n"
     ]
    },
    {
     "data": {
      "text/plain": [
       "<tensorflow.python.keras._impl.keras.callbacks.History at 0x1a3696d160>"
      ]
     },
     "execution_count": 17,
     "metadata": {},
     "output_type": "execute_result"
    }
   ],
   "source": [
    "class_weight = {0: 1, 1: 10}\n",
    "\n",
    "myMLP.fit(x_train,y_train,epochs=50,batch_size=500,verbose=1, class_weight=class_weight)"
   ]
  },
  {
   "cell_type": "code",
   "execution_count": 18,
   "metadata": {},
   "outputs": [
    {
     "name": "stdout",
     "output_type": "stream",
     "text": [
      "31779/31779 [==============================] - 1s 32us/step\n",
      "0.777022562069291\n"
     ]
    }
   ],
   "source": [
    "test_loss,test_acc = myMLP.evaluate(x_test,y_test)\n",
    "print(test_acc)"
   ]
  },
  {
   "cell_type": "code",
   "execution_count": 74,
   "metadata": {
    "scrolled": true
   },
   "outputs": [
    {
     "name": "stdout",
     "output_type": "stream",
     "text": [
      "[[25518  5553]\n",
      " [    1     7]]\n"
     ]
    }
   ],
   "source": [
    "from sklearn import metrics\n",
    "predlabel = myMLP.predict(x_test)\n",
    "f = np.argmax(predlabel,axis=1)\n",
    "confMat = metrics.confusion_matrix(np.argmax(y_test,axis=1),f)\n",
    "print(confMat)"
   ]
  },
  {
   "cell_type": "code",
   "execution_count": 20,
   "metadata": {},
   "outputs": [
    {
     "name": "stdout",
     "output_type": "stream",
     "text": [
      "_________________________________________________________________\n",
      "Layer (type)                 Output Shape              Param #   \n",
      "=================================================================\n",
      "input_2 (InputLayer)         (None, 50, 1)             0         \n",
      "_________________________________________________________________\n",
      "reshape_2 (Reshape)          (None, 50)                0         \n",
      "_________________________________________________________________\n",
      "dense_4 (Dense)              (None, 64)                3264      \n",
      "_________________________________________________________________\n",
      "batch_normalization_3 (Batch (None, 64)                256       \n",
      "_________________________________________________________________\n",
      "activation_4 (Activation)    (None, 64)                0         \n",
      "_________________________________________________________________\n",
      "dropout_3 (Dropout)          (None, 64)                0         \n",
      "_________________________________________________________________\n",
      "dense_5 (Dense)              (None, 128)               8320      \n",
      "_________________________________________________________________\n",
      "batch_normalization_4 (Batch (None, 128)               512       \n",
      "_________________________________________________________________\n",
      "activation_5 (Activation)    (None, 128)               0         \n",
      "_________________________________________________________________\n",
      "dropout_4 (Dropout)          (None, 128)               0         \n",
      "_________________________________________________________________\n",
      "dense_6 (Dense)              (None, 256)               33024     \n",
      "_________________________________________________________________\n",
      "batch_normalization_5 (Batch (None, 256)               1024      \n",
      "_________________________________________________________________\n",
      "activation_6 (Activation)    (None, 256)               0         \n",
      "_________________________________________________________________\n",
      "dense_7 (Dense)              (None, 2)                 514       \n",
      "_________________________________________________________________\n",
      "activation_7 (Activation)    (None, 2)                 0         \n",
      "=================================================================\n",
      "Total params: 46,914\n",
      "Trainable params: 46,018\n",
      "Non-trainable params: 896\n",
      "_________________________________________________________________\n"
     ]
    }
   ],
   "source": [
    "# MLP -3 :: Input => Hidden(64) => Hidden(128) => Hidden(256)\n",
    "inputs = keras.layers.Input(shape=(x_train.shape[1],1))\n",
    "RS0    = keras.layers.Reshape((x_train.shape[1], ))(inputs)\n",
    "FC0    = keras.layers.Dense(64, bias_initializer=keras.initializers.VarianceScaling())(RS0)\n",
    "BN0    = keras.layers.BatchNormalization(axis=-1)(FC0)\n",
    "AC0    = keras.layers.Activation('relu')(BN0)\n",
    "DP0    = keras.layers.Dropout(0.2)(AC0)\n",
    "\n",
    "FC1    = keras.layers.Dense(128, bias_initializer=keras.initializers.VarianceScaling())(DP0)\n",
    "BN1    = keras.layers.BatchNormalization(axis=-1)(FC1)\n",
    "AC1    = keras.layers.Activation('relu')(BN1)\n",
    "DP1    = keras.layers.Dropout(0.2)(AC1)\n",
    "\n",
    "FC2    = keras.layers.Dense(256, bias_initializer=keras.initializers.VarianceScaling())(DP1)\n",
    "BN2    = keras.layers.BatchNormalization(axis=-1)(FC2)\n",
    "AC2    = keras.layers.Activation('relu')(BN2)\n",
    "#DP2    = keras.layers.Dropout(0.2)(AC2)\n",
    "\n",
    "\n",
    "FC3 =   keras.layers.Dense(2, bias_initializer=keras.initializers.VarianceScaling())(AC2)\n",
    "outputs = keras.layers.Activation('softmax')(FC3)\n",
    "\n",
    "myMLP3 = keras.Model(inputs=inputs,outputs=outputs)\n",
    "myMLP3.compile(optimizer=keras.optimizers.Adam(lr=0.01),\n",
    "                 loss='categorical_crossentropy',\n",
    "                 metrics=['accuracy'])\n",
    "myMLP3.summary()"
   ]
  },
  {
   "cell_type": "code",
   "execution_count": 21,
   "metadata": {},
   "outputs": [
    {
     "name": "stdout",
     "output_type": "stream",
     "text": [
      "Epoch 1/100\n",
      "5300/5300 [==============================] - 1s 163us/step - loss: 0.6843 - acc: 0.7236\n",
      "Epoch 2/100\n",
      "5300/5300 [==============================] - 0s 17us/step - loss: 0.5704 - acc: 0.7806\n",
      "Epoch 3/100\n",
      "5300/5300 [==============================] - 0s 21us/step - loss: 0.5174 - acc: 0.7708\n",
      "Epoch 4/100\n",
      "5300/5300 [==============================] - 0s 20us/step - loss: 0.4331 - acc: 0.7981\n",
      "Epoch 5/100\n",
      "5300/5300 [==============================] - 0s 21us/step - loss: 0.4147 - acc: 0.7996\n",
      "Epoch 6/100\n",
      "5300/5300 [==============================] - 0s 19us/step - loss: 0.3979 - acc: 0.8051\n",
      "Epoch 7/100\n",
      "5300/5300 [==============================] - 0s 18us/step - loss: 0.3804 - acc: 0.8185\n",
      "Epoch 8/100\n",
      "5300/5300 [==============================] - 0s 18us/step - loss: 0.3808 - acc: 0.8236\n",
      "Epoch 9/100\n",
      "5300/5300 [==============================] - 0s 21us/step - loss: 0.3709 - acc: 0.8243\n",
      "Epoch 10/100\n",
      "5300/5300 [==============================] - 0s 18us/step - loss: 0.3727 - acc: 0.8191\n",
      "Epoch 11/100\n",
      "5300/5300 [==============================] - 0s 17us/step - loss: 0.3654 - acc: 0.8194\n",
      "Epoch 12/100\n",
      "5300/5300 [==============================] - 0s 19us/step - loss: 0.3598 - acc: 0.8247\n",
      "Epoch 13/100\n",
      "5300/5300 [==============================] - 0s 20us/step - loss: 0.3598 - acc: 0.8255\n",
      "Epoch 14/100\n",
      "5300/5300 [==============================] - 0s 20us/step - loss: 0.3537 - acc: 0.8292\n",
      "Epoch 15/100\n",
      "5300/5300 [==============================] - 0s 17us/step - loss: 0.3529 - acc: 0.8336\n",
      "Epoch 16/100\n",
      "5300/5300 [==============================] - 0s 19us/step - loss: 0.3483 - acc: 0.8355\n",
      "Epoch 17/100\n",
      "5300/5300 [==============================] - 0s 21us/step - loss: 0.3434 - acc: 0.8294\n",
      "Epoch 18/100\n",
      "5300/5300 [==============================] - 0s 23us/step - loss: 0.3418 - acc: 0.8377\n",
      "Epoch 19/100\n",
      "5300/5300 [==============================] - 0s 23us/step - loss: 0.3491 - acc: 0.8360\n",
      "Epoch 20/100\n",
      "5300/5300 [==============================] - 0s 21us/step - loss: 0.3412 - acc: 0.8366\n",
      "Epoch 21/100\n",
      "5300/5300 [==============================] - 0s 20us/step - loss: 0.3359 - acc: 0.8394\n",
      "Epoch 22/100\n",
      "5300/5300 [==============================] - 0s 21us/step - loss: 0.3331 - acc: 0.8421\n",
      "Epoch 23/100\n",
      "5300/5300 [==============================] - 0s 18us/step - loss: 0.3302 - acc: 0.8383\n",
      "Epoch 24/100\n",
      "5300/5300 [==============================] - 0s 18us/step - loss: 0.3340 - acc: 0.8419\n",
      "Epoch 25/100\n",
      "5300/5300 [==============================] - 0s 19us/step - loss: 0.3273 - acc: 0.8449\n",
      "Epoch 26/100\n",
      "5300/5300 [==============================] - 0s 22us/step - loss: 0.3244 - acc: 0.8487\n",
      "Epoch 27/100\n",
      "5300/5300 [==============================] - 0s 22us/step - loss: 0.3203 - acc: 0.8492\n",
      "Epoch 28/100\n",
      "5300/5300 [==============================] - 0s 22us/step - loss: 0.3195 - acc: 0.8506\n",
      "Epoch 29/100\n",
      "5300/5300 [==============================] - 0s 25us/step - loss: 0.3178 - acc: 0.8534\n",
      "Epoch 30/100\n",
      "5300/5300 [==============================] - 0s 21us/step - loss: 0.3205 - acc: 0.8475\n",
      "Epoch 31/100\n",
      "5300/5300 [==============================] - 0s 21us/step - loss: 0.3105 - acc: 0.8534\n",
      "Epoch 32/100\n",
      "5300/5300 [==============================] - 0s 21us/step - loss: 0.3074 - acc: 0.8585\n",
      "Epoch 33/100\n",
      "5300/5300 [==============================] - 0s 21us/step - loss: 0.3093 - acc: 0.8549\n",
      "Epoch 34/100\n",
      "5300/5300 [==============================] - 0s 22us/step - loss: 0.3032 - acc: 0.8526\n",
      "Epoch 35/100\n",
      "5300/5300 [==============================] - 0s 21us/step - loss: 0.3040 - acc: 0.8557\n",
      "Epoch 36/100\n",
      "5300/5300 [==============================] - 0s 20us/step - loss: 0.2986 - acc: 0.8660\n",
      "Epoch 37/100\n",
      "5300/5300 [==============================] - 0s 21us/step - loss: 0.2953 - acc: 0.8611\n",
      "Epoch 38/100\n",
      "5300/5300 [==============================] - 0s 20us/step - loss: 0.2976 - acc: 0.8660\n",
      "Epoch 39/100\n",
      "5300/5300 [==============================] - 0s 20us/step - loss: 0.2927 - acc: 0.8615\n",
      "Epoch 40/100\n",
      "5300/5300 [==============================] - 0s 22us/step - loss: 0.2922 - acc: 0.8664\n",
      "Epoch 41/100\n",
      "5300/5300 [==============================] - 0s 21us/step - loss: 0.2936 - acc: 0.8625\n",
      "Epoch 42/100\n",
      "5300/5300 [==============================] - 0s 20us/step - loss: 0.2870 - acc: 0.8717\n",
      "Epoch 43/100\n",
      "5300/5300 [==============================] - 0s 22us/step - loss: 0.2872 - acc: 0.8655\n",
      "Epoch 44/100\n",
      "5300/5300 [==============================] - 0s 20us/step - loss: 0.2748 - acc: 0.8757\n",
      "Epoch 45/100\n",
      "5300/5300 [==============================] - 0s 20us/step - loss: 0.2725 - acc: 0.8713\n",
      "Epoch 46/100\n",
      "5300/5300 [==============================] - 0s 22us/step - loss: 0.2796 - acc: 0.8726\n",
      "Epoch 47/100\n",
      "5300/5300 [==============================] - 0s 22us/step - loss: 0.2718 - acc: 0.8751\n",
      "Epoch 48/100\n",
      "5300/5300 [==============================] - 0s 21us/step - loss: 0.2695 - acc: 0.8734\n",
      "Epoch 49/100\n",
      "5300/5300 [==============================] - 0s 22us/step - loss: 0.2732 - acc: 0.8725\n",
      "Epoch 50/100\n",
      "5300/5300 [==============================] - 0s 21us/step - loss: 0.2672 - acc: 0.8830\n",
      "Epoch 51/100\n",
      "5300/5300 [==============================] - 0s 19us/step - loss: 0.2649 - acc: 0.8825\n",
      "Epoch 52/100\n",
      "5300/5300 [==============================] - 0s 22us/step - loss: 0.2627 - acc: 0.8817\n",
      "Epoch 53/100\n",
      "5300/5300 [==============================] - 0s 20us/step - loss: 0.2641 - acc: 0.8774\n",
      "Epoch 54/100\n",
      "5300/5300 [==============================] - 0s 20us/step - loss: 0.2597 - acc: 0.8836\n",
      "Epoch 55/100\n",
      "5300/5300 [==============================] - 0s 20us/step - loss: 0.2547 - acc: 0.8830\n",
      "Epoch 56/100\n",
      "5300/5300 [==============================] - 0s 19us/step - loss: 0.2490 - acc: 0.8902\n",
      "Epoch 57/100\n",
      "5300/5300 [==============================] - 0s 20us/step - loss: 0.2414 - acc: 0.8894\n",
      "Epoch 58/100\n",
      "5300/5300 [==============================] - 0s 21us/step - loss: 0.2520 - acc: 0.8875\n",
      "Epoch 59/100\n",
      "5300/5300 [==============================] - 0s 27us/step - loss: 0.2430 - acc: 0.8917\n",
      "Epoch 60/100\n",
      "5300/5300 [==============================] - 0s 19us/step - loss: 0.2448 - acc: 0.8928\n",
      "Epoch 61/100\n",
      "5300/5300 [==============================] - 0s 18us/step - loss: 0.2450 - acc: 0.8894\n",
      "Epoch 62/100\n",
      "5300/5300 [==============================] - 0s 17us/step - loss: 0.2400 - acc: 0.8892\n",
      "Epoch 63/100\n",
      "5300/5300 [==============================] - 0s 20us/step - loss: 0.2382 - acc: 0.8957\n",
      "Epoch 64/100\n",
      "5300/5300 [==============================] - 0s 21us/step - loss: 0.2393 - acc: 0.8970\n",
      "Epoch 65/100\n",
      "5300/5300 [==============================] - 0s 22us/step - loss: 0.2293 - acc: 0.9004\n",
      "Epoch 66/100\n",
      "5300/5300 [==============================] - 0s 19us/step - loss: 0.2303 - acc: 0.8992\n",
      "Epoch 67/100\n",
      "5300/5300 [==============================] - 0s 19us/step - loss: 0.2301 - acc: 0.8983\n",
      "Epoch 68/100\n",
      "5300/5300 [==============================] - 0s 21us/step - loss: 0.2256 - acc: 0.9009\n",
      "Epoch 69/100\n",
      "5300/5300 [==============================] - 0s 18us/step - loss: 0.2233 - acc: 0.9002\n",
      "Epoch 70/100\n",
      "5300/5300 [==============================] - 0s 20us/step - loss: 0.2236 - acc: 0.9053\n",
      "Epoch 71/100\n",
      "5300/5300 [==============================] - 0s 20us/step - loss: 0.2079 - acc: 0.9091\n",
      "Epoch 72/100\n",
      "5300/5300 [==============================] - 0s 22us/step - loss: 0.2189 - acc: 0.9040\n",
      "Epoch 73/100\n",
      "5300/5300 [==============================] - 0s 22us/step - loss: 0.2191 - acc: 0.9058\n",
      "Epoch 74/100\n",
      "5300/5300 [==============================] - 0s 21us/step - loss: 0.2029 - acc: 0.9102\n",
      "Epoch 75/100\n",
      "5300/5300 [==============================] - 0s 23us/step - loss: 0.2164 - acc: 0.9083\n",
      "Epoch 76/100\n",
      "5300/5300 [==============================] - 0s 20us/step - loss: 0.2140 - acc: 0.9083\n",
      "Epoch 77/100\n",
      "5300/5300 [==============================] - 0s 21us/step - loss: 0.2106 - acc: 0.9106\n",
      "Epoch 78/100\n",
      "5300/5300 [==============================] - 0s 21us/step - loss: 0.2071 - acc: 0.9158\n",
      "Epoch 79/100\n",
      "5300/5300 [==============================] - 0s 19us/step - loss: 0.2043 - acc: 0.9115\n",
      "Epoch 80/100\n",
      "5300/5300 [==============================] - 0s 21us/step - loss: 0.2037 - acc: 0.9113\n",
      "Epoch 81/100\n",
      "5300/5300 [==============================] - 0s 21us/step - loss: 0.1980 - acc: 0.9143\n",
      "Epoch 82/100\n",
      "5300/5300 [==============================] - 0s 20us/step - loss: 0.1946 - acc: 0.9175\n",
      "Epoch 83/100\n"
     ]
    },
    {
     "name": "stdout",
     "output_type": "stream",
     "text": [
      "5300/5300 [==============================] - 0s 21us/step - loss: 0.1954 - acc: 0.9172\n",
      "Epoch 84/100\n",
      "5300/5300 [==============================] - 0s 25us/step - loss: 0.1964 - acc: 0.9174\n",
      "Epoch 85/100\n",
      "5300/5300 [==============================] - 0s 22us/step - loss: 0.1989 - acc: 0.9177\n",
      "Epoch 86/100\n",
      "5300/5300 [==============================] - 0s 20us/step - loss: 0.1917 - acc: 0.9200\n",
      "Epoch 87/100\n",
      "5300/5300 [==============================] - 0s 18us/step - loss: 0.1941 - acc: 0.9179\n",
      "Epoch 88/100\n",
      "5300/5300 [==============================] - 0s 19us/step - loss: 0.1893 - acc: 0.9162\n",
      "Epoch 89/100\n",
      "5300/5300 [==============================] - 0s 21us/step - loss: 0.1793 - acc: 0.9243\n",
      "Epoch 90/100\n",
      "5300/5300 [==============================] - 0s 24us/step - loss: 0.1915 - acc: 0.9223\n",
      "Epoch 91/100\n",
      "5300/5300 [==============================] - 0s 22us/step - loss: 0.1926 - acc: 0.9179\n",
      "Epoch 92/100\n",
      "5300/5300 [==============================] - 0s 19us/step - loss: 0.1828 - acc: 0.9177\n",
      "Epoch 93/100\n",
      "5300/5300 [==============================] - 0s 22us/step - loss: 0.1852 - acc: 0.9177\n",
      "Epoch 94/100\n",
      "5300/5300 [==============================] - 0s 20us/step - loss: 0.1962 - acc: 0.9181\n",
      "Epoch 95/100\n",
      "5300/5300 [==============================] - 0s 20us/step - loss: 0.1907 - acc: 0.9208\n",
      "Epoch 96/100\n",
      "5300/5300 [==============================] - 0s 20us/step - loss: 0.1836 - acc: 0.9206\n",
      "Epoch 97/100\n",
      "5300/5300 [==============================] - 0s 19us/step - loss: 0.1897 - acc: 0.9192\n",
      "Epoch 98/100\n",
      "5300/5300 [==============================] - 0s 19us/step - loss: 0.1747 - acc: 0.9277\n",
      "Epoch 99/100\n",
      "5300/5300 [==============================] - 0s 21us/step - loss: 0.1879 - acc: 0.9208\n",
      "Epoch 100/100\n",
      "5300/5300 [==============================] - 0s 20us/step - loss: 0.1847 - acc: 0.9206\n"
     ]
    },
    {
     "data": {
      "text/plain": [
       "<tensorflow.python.keras._impl.keras.callbacks.History at 0x1a31018ef0>"
      ]
     },
     "execution_count": 21,
     "metadata": {},
     "output_type": "execute_result"
    }
   ],
   "source": [
    "class_weight = {0: 1, 1: 1}\n",
    "\n",
    "myMLP3.fit(x_train,y_train,epochs=100,batch_size=3000,verbose=1, class_weight=class_weight)"
   ]
  },
  {
   "cell_type": "code",
   "execution_count": 22,
   "metadata": {},
   "outputs": [
    {
     "name": "stdout",
     "output_type": "stream",
     "text": [
      "31779/31779 [==============================] - 1s 35us/step\n",
      "0.931841782309072\n"
     ]
    }
   ],
   "source": [
    "test_loss,test_acc = myMLP3.evaluate(x_test,y_test)\n",
    "print(test_acc)"
   ]
  },
  {
   "cell_type": "code",
   "execution_count": 23,
   "metadata": {},
   "outputs": [
    {
     "name": "stdout",
     "output_type": "stream",
     "text": [
      "[[29535  2036]\n",
      " [  130    78]]\n"
     ]
    }
   ],
   "source": [
    "from sklearn import metrics\n",
    "predlabel = myMLP3.predict(x_test)\n",
    "f = np.argmax(predlabel,axis=1)\n",
    "confMat = metrics.confusion_matrix(np.argmax(y_test,axis=1),f)\n",
    "print(confMat)"
   ]
  },
  {
   "cell_type": "markdown",
   "metadata": {},
   "source": [
    "# Introducing convolutional layers"
   ]
  },
  {
   "cell_type": "markdown",
   "metadata": {},
   "source": [
    "## MLP+Conv :: Input => Hidden(128)  => Conv(4) => Output (2)"
   ]
  },
  {
   "cell_type": "code",
   "execution_count": 24,
   "metadata": {},
   "outputs": [
    {
     "name": "stdout",
     "output_type": "stream",
     "text": [
      "WARNING:tensorflow:From /Users/devil/anaconda3/lib/python3.6/site-packages/tensorflow/python/util/deprecation.py:497: calling conv1d (from tensorflow.python.ops.nn_ops) with data_format=NHWC is deprecated and will be removed in a future version.\n",
      "Instructions for updating:\n",
      "`NHWC` for data_format is deprecated, use `NWC` instead\n",
      "_________________________________________________________________\n",
      "Layer (type)                 Output Shape              Param #   \n",
      "=================================================================\n",
      "input_3 (InputLayer)         (None, 50, 1)             0         \n",
      "_________________________________________________________________\n",
      "reshape_3 (Reshape)          (None, 50)                0         \n",
      "_________________________________________________________________\n",
      "dense_8 (Dense)              (None, 128)               6528      \n",
      "_________________________________________________________________\n",
      "batch_normalization_6 (Batch (None, 128)               512       \n",
      "_________________________________________________________________\n",
      "activation_8 (Activation)    (None, 128)               0         \n",
      "_________________________________________________________________\n",
      "dropout_5 (Dropout)          (None, 128)               0         \n",
      "_________________________________________________________________\n",
      "reshape_4 (Reshape)          (None, 128, 1)            0         \n",
      "_________________________________________________________________\n",
      "conv1d_1 (Conv1D)            (None, 126, 4)            16        \n",
      "_________________________________________________________________\n",
      "batch_normalization_7 (Batch (None, 126, 4)            16        \n",
      "_________________________________________________________________\n",
      "activation_9 (Activation)    (None, 126, 4)            0         \n",
      "_________________________________________________________________\n",
      "max_pooling1d_1 (MaxPooling1 (None, 63, 4)             0         \n",
      "_________________________________________________________________\n",
      "flatten_1 (Flatten)          (None, 252)               0         \n",
      "_________________________________________________________________\n",
      "dense_9 (Dense)              (None, 2)                 506       \n",
      "_________________________________________________________________\n",
      "activation_10 (Activation)   (None, 2)                 0         \n",
      "=================================================================\n",
      "Total params: 7,578\n",
      "Trainable params: 7,314\n",
      "Non-trainable params: 264\n",
      "_________________________________________________________________\n"
     ]
    }
   ],
   "source": [
    "\n",
    "inputs = keras.layers.Input(shape=(x_train.shape[1],1))\n",
    "RS0    = keras.layers.Reshape((x_train.shape[1], ))(inputs)\n",
    "FC0    = keras.layers.Dense(128, bias_initializer=keras.initializers.VarianceScaling())(RS0)\n",
    "BN0    = keras.layers.BatchNormalization(axis=-1)(FC0)\n",
    "AC0    = keras.layers.Activation('relu')(BN0)\n",
    "DP0    = keras.layers.Dropout(0.2)(AC0)\n",
    "\n",
    "RS1    = keras.layers.Reshape((128,1))(DP0)\n",
    "FC1    = keras.layers.Conv1D(4,3,strides=1)(RS1)\n",
    "BN1    = keras.layers.BatchNormalization(axis=-1)(FC1)\n",
    "AC1    = keras.layers.Activation('relu')(BN1)\n",
    "Pool1 = keras.layers.MaxPool1D(pool_size=2)(AC1)\n",
    "FL1   = keras.layers.Flatten()(Pool1)\n",
    "\n",
    "FC3 =   keras.layers.Dense(2, bias_initializer=keras.initializers.VarianceScaling())(FL1)\n",
    "outputs = keras.layers.Activation('softmax')(FC3)\n",
    "\n",
    "myCNN1D1 = keras.Model(inputs=inputs,outputs=outputs)\n",
    "myCNN1D1.compile(optimizer=keras.optimizers.Adam(),\n",
    "                 loss='categorical_crossentropy',\n",
    "                 metrics=['accuracy'])\n",
    "\n",
    "myCNN1D1.summary()"
   ]
  },
  {
   "cell_type": "code",
   "execution_count": 25,
   "metadata": {},
   "outputs": [
    {
     "name": "stdout",
     "output_type": "stream",
     "text": [
      "Epoch 1/10\n",
      "5300/5300 [==============================] - 2s 286us/step - loss: 1.1672 - acc: 0.6343\n",
      "Epoch 2/10\n",
      "5300/5300 [==============================] - 1s 138us/step - loss: 0.9489 - acc: 0.7117\n",
      "Epoch 3/10\n",
      "5300/5300 [==============================] - 1s 140us/step - loss: 0.9002 - acc: 0.7283\n",
      "Epoch 4/10\n",
      "5300/5300 [==============================] - 1s 141us/step - loss: 0.8568 - acc: 0.7394\n",
      "Epoch 5/10\n",
      "5300/5300 [==============================] - 1s 143us/step - loss: 0.8266 - acc: 0.7466\n",
      "Epoch 6/10\n",
      "5300/5300 [==============================] - 1s 185us/step - loss: 0.8190 - acc: 0.7475\n",
      "Epoch 7/10\n",
      "5300/5300 [==============================] - 1s 184us/step - loss: 0.7893 - acc: 0.7551\n",
      "Epoch 8/10\n",
      "5300/5300 [==============================] - 1s 160us/step - loss: 0.7889 - acc: 0.7585\n",
      "Epoch 9/10\n",
      "5300/5300 [==============================] - 1s 147us/step - loss: 0.7681 - acc: 0.7642\n",
      "Epoch 10/10\n",
      "5300/5300 [==============================] - 1s 148us/step - loss: 0.7725 - acc: 0.7636\n"
     ]
    },
    {
     "data": {
      "text/plain": [
       "<tensorflow.python.keras._impl.keras.callbacks.History at 0x1a290be2e8>"
      ]
     },
     "execution_count": 25,
     "metadata": {},
     "output_type": "execute_result"
    }
   ],
   "source": [
    "class_weight = {0: 1, 1: 5}\n",
    "\n",
    "myCNN1D1.fit(x_train,y_train,epochs=10,verbose=1, class_weight=class_weight)"
   ]
  },
  {
   "cell_type": "code",
   "execution_count": 26,
   "metadata": {},
   "outputs": [
    {
     "name": "stdout",
     "output_type": "stream",
     "text": [
      "31779/31779 [==============================] - 2s 54us/step\n",
      "0.6637087384750936\n"
     ]
    }
   ],
   "source": [
    "test_loss,test_acc = myCNN1D1.evaluate(x_test,y_test)\n",
    "print(test_acc)"
   ]
  },
  {
   "cell_type": "code",
   "execution_count": 27,
   "metadata": {},
   "outputs": [
    {
     "name": "stdout",
     "output_type": "stream",
     "text": [
      "[[20910 10661]\n",
      " [   26   182]]\n"
     ]
    }
   ],
   "source": [
    "from sklearn import metrics\n",
    "predlabel = myCNN1D1.predict(x_test)\n",
    "f = np.argmax(predlabel,axis=1)\n",
    "confMat = metrics.confusion_matrix(np.argmax(y_test,axis=1),f)\n",
    "print(confMat)"
   ]
  },
  {
   "cell_type": "markdown",
   "metadata": {},
   "source": [
    "##  MLP+CONV: Input => Hidden(128)  => Conv(4) => Conv(8) => Output (2)"
   ]
  },
  {
   "cell_type": "code",
   "execution_count": 28,
   "metadata": {},
   "outputs": [
    {
     "name": "stdout",
     "output_type": "stream",
     "text": [
      "_________________________________________________________________\n",
      "Layer (type)                 Output Shape              Param #   \n",
      "=================================================================\n",
      "input_4 (InputLayer)         (None, 50, 1)             0         \n",
      "_________________________________________________________________\n",
      "reshape_5 (Reshape)          (None, 50)                0         \n",
      "_________________________________________________________________\n",
      "dense_10 (Dense)             (None, 128)               6528      \n",
      "_________________________________________________________________\n",
      "batch_normalization_8 (Batch (None, 128)               512       \n",
      "_________________________________________________________________\n",
      "activation_11 (Activation)   (None, 128)               0         \n",
      "_________________________________________________________________\n",
      "dropout_6 (Dropout)          (None, 128)               0         \n",
      "_________________________________________________________________\n",
      "reshape_6 (Reshape)          (None, 128, 1)            0         \n",
      "_________________________________________________________________\n",
      "conv1d_2 (Conv1D)            (None, 126, 4)            16        \n",
      "_________________________________________________________________\n",
      "batch_normalization_9 (Batch (None, 126, 4)            16        \n",
      "_________________________________________________________________\n",
      "activation_12 (Activation)   (None, 126, 4)            0         \n",
      "_________________________________________________________________\n",
      "average_pooling1d_1 (Average (None, 63, 4)             0         \n",
      "_________________________________________________________________\n",
      "conv1d_3 (Conv1D)            (None, 59, 8)             168       \n",
      "_________________________________________________________________\n",
      "batch_normalization_10 (Batc (None, 59, 8)             32        \n",
      "_________________________________________________________________\n",
      "activation_13 (Activation)   (None, 59, 8)             0         \n",
      "_________________________________________________________________\n",
      "average_pooling1d_2 (Average (None, 29, 8)             0         \n",
      "_________________________________________________________________\n",
      "flatten_2 (Flatten)          (None, 232)               0         \n",
      "_________________________________________________________________\n",
      "dense_11 (Dense)             (None, 2)                 466       \n",
      "_________________________________________________________________\n",
      "activation_14 (Activation)   (None, 2)                 0         \n",
      "=================================================================\n",
      "Total params: 7,738\n",
      "Trainable params: 7,458\n",
      "Non-trainable params: 280\n",
      "_________________________________________________________________\n"
     ]
    }
   ],
   "source": [
    "inputs = keras.layers.Input(shape=(x_train.shape[1],1))\n",
    "RS0    = keras.layers.Reshape((x_train.shape[1], ))(inputs)\n",
    "FC0    = keras.layers.Dense(128, bias_initializer=keras.initializers.VarianceScaling())(RS0)\n",
    "BN0    = keras.layers.BatchNormalization(axis=-1)(FC0)\n",
    "AC0    = keras.layers.Activation('relu')(BN0)\n",
    "DP0    = keras.layers.Dropout(0.2)(AC0)\n",
    "\n",
    "RS1    = keras.layers.Reshape((128,1))(DP0)\n",
    "FC1    = keras.layers.Conv1D(4,3,strides=1)(RS1)\n",
    "BN1    = keras.layers.BatchNormalization(axis=-1)(FC1)\n",
    "AC1    = keras.layers.Activation('relu')(BN1)\n",
    "Pool1 = keras.layers.AveragePooling1D(pool_size=2)(AC1)\n",
    "\n",
    "FC2    = keras.layers.Conv1D(8,5,strides=1)(Pool1)\n",
    "BN2    = keras.layers.BatchNormalization(axis=-1)(FC2)\n",
    "AC2    = keras.layers.Activation('relu')(BN2)\n",
    "Pool2 = keras.layers.AveragePooling1D(pool_size=2)(AC2)\n",
    "\n",
    "FL1   = keras.layers.Flatten()(Pool2)\n",
    "\n",
    "FC3 =   keras.layers.Dense(2, bias_initializer=keras.initializers.VarianceScaling())(FL1)\n",
    "outputs = keras.layers.Activation('softmax')(FC3)\n",
    "\n",
    "myCNN1D2 = keras.Model(inputs=inputs,outputs=outputs)\n",
    "myCNN1D2.compile(optimizer=keras.optimizers.Adam(),\n",
    "                 loss='categorical_crossentropy',\n",
    "                 metrics=['accuracy'])\n",
    "\n",
    "myCNN1D2.summary()"
   ]
  },
  {
   "cell_type": "code",
   "execution_count": 29,
   "metadata": {
    "scrolled": false
   },
   "outputs": [
    {
     "name": "stdout",
     "output_type": "stream",
     "text": [
      "Epoch 1/50\n",
      "5300/5300 [==============================] - 2s 354us/step - loss: 1.4510 - acc: 0.4683\n",
      "Epoch 2/50\n",
      "5300/5300 [==============================] - 1s 185us/step - loss: 1.2580 - acc: 0.6094\n",
      "Epoch 3/50\n",
      "5300/5300 [==============================] - 1s 187us/step - loss: 1.1706 - acc: 0.6406\n",
      "Epoch 4/50\n",
      "5300/5300 [==============================] - 1s 211us/step - loss: 1.1302 - acc: 0.6664\n",
      "Epoch 5/50\n",
      "5300/5300 [==============================] - 1s 202us/step - loss: 1.1023 - acc: 0.6632\n",
      "Epoch 6/50\n",
      "5300/5300 [==============================] - 1s 190us/step - loss: 1.0892 - acc: 0.6704\n",
      "Epoch 7/50\n",
      "5300/5300 [==============================] - 1s 211us/step - loss: 1.0451 - acc: 0.6849\n",
      "Epoch 8/50\n",
      "5300/5300 [==============================] - 1s 233us/step - loss: 1.0242 - acc: 0.6913\n",
      "Epoch 9/50\n",
      "5300/5300 [==============================] - 1s 190us/step - loss: 1.0205 - acc: 0.6947\n",
      "Epoch 10/50\n",
      "5300/5300 [==============================] - 1s 217us/step - loss: 1.0166 - acc: 0.6940\n",
      "Epoch 11/50\n",
      "5300/5300 [==============================] - 1s 209us/step - loss: 0.9935 - acc: 0.7077\n",
      "Epoch 12/50\n",
      "5300/5300 [==============================] - 1s 211us/step - loss: 0.9840 - acc: 0.7026\n",
      "Epoch 13/50\n",
      "5300/5300 [==============================] - 1s 204us/step - loss: 0.9384 - acc: 0.7128\n",
      "Epoch 14/50\n",
      "5300/5300 [==============================] - 1s 191us/step - loss: 0.9467 - acc: 0.7232\n",
      "Epoch 15/50\n",
      "5300/5300 [==============================] - 1s 190us/step - loss: 0.9275 - acc: 0.7300\n",
      "Epoch 16/50\n",
      "5300/5300 [==============================] - 1s 192us/step - loss: 0.8967 - acc: 0.7374\n",
      "Epoch 17/50\n",
      "5300/5300 [==============================] - 1s 191us/step - loss: 0.9102 - acc: 0.7347\n",
      "Epoch 18/50\n",
      "5300/5300 [==============================] - 1s 193us/step - loss: 0.8995 - acc: 0.7383\n",
      "Epoch 19/50\n",
      "5300/5300 [==============================] - 1s 204us/step - loss: 0.8701 - acc: 0.7521\n",
      "Epoch 20/50\n",
      "5300/5300 [==============================] - 1s 220us/step - loss: 0.8364 - acc: 0.7594\n",
      "Epoch 21/50\n",
      "5300/5300 [==============================] - 1s 195us/step - loss: 0.8671 - acc: 0.7483\n",
      "Epoch 22/50\n",
      "5300/5300 [==============================] - 1s 191us/step - loss: 0.8282 - acc: 0.7621\n",
      "Epoch 23/50\n",
      "5300/5300 [==============================] - 1s 211us/step - loss: 0.8340 - acc: 0.7683\n",
      "Epoch 24/50\n",
      "5300/5300 [==============================] - 1s 202us/step - loss: 0.7936 - acc: 0.7728\n",
      "Epoch 25/50\n",
      "5300/5300 [==============================] - 1s 198us/step - loss: 0.7872 - acc: 0.7781\n",
      "Epoch 26/50\n",
      "5300/5300 [==============================] - 1s 210us/step - loss: 0.7710 - acc: 0.7794\n",
      "Epoch 27/50\n",
      "5300/5300 [==============================] - 1s 213us/step - loss: 0.7905 - acc: 0.7806\n",
      "Epoch 28/50\n",
      "5300/5300 [==============================] - 1s 217us/step - loss: 0.7501 - acc: 0.7858\n",
      "Epoch 29/50\n",
      "5300/5300 [==============================] - 1s 193us/step - loss: 0.7365 - acc: 0.7953\n",
      "Epoch 30/50\n",
      "5300/5300 [==============================] - 1s 192us/step - loss: 0.7562 - acc: 0.7894\n",
      "Epoch 31/50\n",
      "5300/5300 [==============================] - 1s 191us/step - loss: 0.7319 - acc: 0.7936\n",
      "Epoch 32/50\n",
      "5300/5300 [==============================] - 1s 190us/step - loss: 0.7113 - acc: 0.7968\n",
      "Epoch 33/50\n",
      "5300/5300 [==============================] - 1s 193us/step - loss: 0.7063 - acc: 0.8075\n",
      "Epoch 34/50\n",
      "5300/5300 [==============================] - 1s 194us/step - loss: 0.7467 - acc: 0.7911\n",
      "Epoch 35/50\n",
      "5300/5300 [==============================] - 1s 192us/step - loss: 0.7166 - acc: 0.7964\n",
      "Epoch 36/50\n",
      "5300/5300 [==============================] - 1s 204us/step - loss: 0.7089 - acc: 0.8011\n",
      "Epoch 37/50\n",
      "5300/5300 [==============================] - 1s 253us/step - loss: 0.6891 - acc: 0.8045\n",
      "Epoch 38/50\n",
      "5300/5300 [==============================] - 1s 209us/step - loss: 0.6974 - acc: 0.8019\n",
      "Epoch 39/50\n",
      "5300/5300 [==============================] - 1s 215us/step - loss: 0.6806 - acc: 0.8098\n",
      "Epoch 40/50\n",
      "5300/5300 [==============================] - 1s 227us/step - loss: 0.6769 - acc: 0.8066\n",
      "Epoch 41/50\n",
      "5300/5300 [==============================] - 1s 197us/step - loss: 0.7189 - acc: 0.8066\n",
      "Epoch 42/50\n",
      "5300/5300 [==============================] - 1s 192us/step - loss: 0.6596 - acc: 0.8155\n",
      "Epoch 43/50\n",
      "5300/5300 [==============================] - 1s 227us/step - loss: 0.6655 - acc: 0.8174\n",
      "Epoch 44/50\n",
      "5300/5300 [==============================] - 1s 202us/step - loss: 0.6982 - acc: 0.8060\n",
      "Epoch 45/50\n",
      "5300/5300 [==============================] - 1s 222us/step - loss: 0.6728 - acc: 0.8162\n",
      "Epoch 46/50\n",
      "5300/5300 [==============================] - 1s 208us/step - loss: 0.6609 - acc: 0.8262\n",
      "Epoch 47/50\n",
      "5300/5300 [==============================] - 1s 218us/step - loss: 0.6451 - acc: 0.8232\n",
      "Epoch 48/50\n",
      "5300/5300 [==============================] - 1s 206us/step - loss: 0.6359 - acc: 0.8260\n",
      "Epoch 49/50\n",
      "5300/5300 [==============================] - 1s 200us/step - loss: 0.6598 - acc: 0.8223\n",
      "Epoch 50/50\n",
      "5300/5300 [==============================] - 1s 214us/step - loss: 0.6431 - acc: 0.8257\n"
     ]
    },
    {
     "data": {
      "text/plain": [
       "<tensorflow.python.keras._impl.keras.callbacks.History at 0x1a29932400>"
      ]
     },
     "execution_count": 29,
     "metadata": {},
     "output_type": "execute_result"
    }
   ],
   "source": [
    "class_weight = {0: 1, 1: 10}\n",
    "\n",
    "myCNN1D2.fit(x_train,y_train,epochs=50,verbose=1, class_weight=class_weight)"
   ]
  },
  {
   "cell_type": "code",
   "execution_count": 31,
   "metadata": {
    "scrolled": true
   },
   "outputs": [
    {
     "name": "stdout",
     "output_type": "stream",
     "text": [
      "31779/31779 [==============================] - 2s 60us/step\n",
      "0.7546807640265584\n"
     ]
    }
   ],
   "source": [
    "test_loss,test_acc = myCNN1D2.evaluate(x_test,y_test)\n",
    "print(test_acc)"
   ]
  },
  {
   "cell_type": "code",
   "execution_count": 32,
   "metadata": {},
   "outputs": [
    {
     "name": "stdout",
     "output_type": "stream",
     "text": [
      "[[23834  7737]\n",
      " [   59   149]]\n"
     ]
    }
   ],
   "source": [
    "from sklearn import metrics\n",
    "predlabel = myCNN1D2.predict(x_test)\n",
    "f = np.argmax(predlabel,axis=1)\n",
    "confMat = metrics.confusion_matrix(np.argmax(y_test,axis=1),f)\n",
    "print(confMat)"
   ]
  },
  {
   "cell_type": "markdown",
   "metadata": {},
   "source": [
    "## MLP+Conv :: Input => Hidden(64) => Conv(2) => Hidden(512)  "
   ]
  },
  {
   "cell_type": "code",
   "execution_count": 33,
   "metadata": {
    "scrolled": true
   },
   "outputs": [
    {
     "name": "stdout",
     "output_type": "stream",
     "text": [
      "_________________________________________________________________\n",
      "Layer (type)                 Output Shape              Param #   \n",
      "=================================================================\n",
      "input_5 (InputLayer)         (None, 50, 1)             0         \n",
      "_________________________________________________________________\n",
      "reshape_7 (Reshape)          (None, 50)                0         \n",
      "_________________________________________________________________\n",
      "dense_12 (Dense)             (None, 32)                1632      \n",
      "_________________________________________________________________\n",
      "batch_normalization_11 (Batc (None, 32)                128       \n",
      "_________________________________________________________________\n",
      "activation_15 (Activation)   (None, 32)                0         \n",
      "_________________________________________________________________\n",
      "dropout_7 (Dropout)          (None, 32)                0         \n",
      "_________________________________________________________________\n",
      "reshape_8 (Reshape)          (None, 32, 1)             0         \n",
      "_________________________________________________________________\n",
      "conv1d_4 (Conv1D)            (None, 30, 2)             8         \n",
      "_________________________________________________________________\n",
      "batch_normalization_12 (Batc (None, 30, 2)             8         \n",
      "_________________________________________________________________\n",
      "activation_16 (Activation)   (None, 30, 2)             0         \n",
      "_________________________________________________________________\n",
      "max_pooling1d_2 (MaxPooling1 (None, 15, 2)             0         \n",
      "_________________________________________________________________\n",
      "flatten_3 (Flatten)          (None, 30)                0         \n",
      "_________________________________________________________________\n",
      "dense_13 (Dense)             (None, 512)               15872     \n",
      "_________________________________________________________________\n",
      "batch_normalization_13 (Batc (None, 512)               2048      \n",
      "_________________________________________________________________\n",
      "activation_17 (Activation)   (None, 512)               0         \n",
      "_________________________________________________________________\n",
      "dense_14 (Dense)             (None, 2)                 1026      \n",
      "_________________________________________________________________\n",
      "activation_18 (Activation)   (None, 2)                 0         \n",
      "=================================================================\n",
      "Total params: 20,722\n",
      "Trainable params: 19,630\n",
      "Non-trainable params: 1,092\n",
      "_________________________________________________________________\n"
     ]
    }
   ],
   "source": [
    "\n",
    "inputs = keras.layers.Input(shape=(x_train.shape[1],1))\n",
    "RS0    = keras.layers.Reshape((x_train.shape[1], ))(inputs)\n",
    "FC0    = keras.layers.Dense(32, bias_initializer=keras.initializers.VarianceScaling())(RS0)\n",
    "BN0    = keras.layers.BatchNormalization(axis=-1)(FC0)\n",
    "AC0    = keras.layers.Activation('relu')(BN0)\n",
    "DP0    = keras.layers.Dropout(0.2)(AC0)\n",
    "\n",
    "RS1    = keras.layers.Reshape((32,1))(DP0)\n",
    "FC1    = keras.layers.Conv1D(2,3,strides=1)(RS1)\n",
    "BN1    = keras.layers.BatchNormalization(axis=-1)(FC1)\n",
    "AC1    = keras.layers.Activation('relu')(BN1)\n",
    "Pool1 = keras.layers.MaxPool1D(pool_size=2)(AC1)\n",
    "FL1   = keras.layers.Flatten()(Pool1)\n",
    "\n",
    "FC2    = keras.layers.Dense(512, bias_initializer=keras.initializers.VarianceScaling())(FL1)\n",
    "BN2    = keras.layers.BatchNormalization(axis=-1)(FC2)\n",
    "AC2    = keras.layers.Activation('relu')(BN2)\n",
    "#DP2    = keras.layers.Dropout(0.2)(AC2)\n",
    "\n",
    "\n",
    "FC3 =   keras.layers.Dense(2, bias_initializer=keras.initializers.VarianceScaling())(AC2)\n",
    "outputs = keras.layers.Activation('softmax')(FC3)\n",
    "\n",
    "myCNN1D3 = keras.Model(inputs=inputs,outputs=outputs)\n",
    "myCNN1D3.compile(optimizer=keras.optimizers.Adam(),\n",
    "                 loss='categorical_crossentropy',\n",
    "                 metrics=['accuracy'])\n",
    "myCNN1D3.summary()"
   ]
  },
  {
   "cell_type": "code",
   "execution_count": 34,
   "metadata": {
    "scrolled": true
   },
   "outputs": [
    {
     "name": "stdout",
     "output_type": "stream",
     "text": [
      "Epoch 1/50\n",
      "5300/5300 [==============================] - 2s 286us/step - loss: 1.1021 - acc: 0.6398\n",
      "Epoch 2/50\n",
      "5300/5300 [==============================] - 1s 123us/step - loss: 0.9354 - acc: 0.6977\n",
      "Epoch 3/50\n",
      "5300/5300 [==============================] - 1s 120us/step - loss: 0.8824 - acc: 0.7174\n",
      "Epoch 4/50\n",
      "5300/5300 [==============================] - 1s 124us/step - loss: 0.8619 - acc: 0.7209\n",
      "Epoch 5/50\n",
      "5300/5300 [==============================] - 1s 127us/step - loss: 0.8278 - acc: 0.7330\n",
      "Epoch 6/50\n",
      "5300/5300 [==============================] - 1s 137us/step - loss: 0.8167 - acc: 0.7385\n",
      "Epoch 7/50\n",
      "5300/5300 [==============================] - 1s 139us/step - loss: 0.8024 - acc: 0.7413\n",
      "Epoch 8/50\n",
      "5300/5300 [==============================] - 1s 137us/step - loss: 0.7906 - acc: 0.7432\n",
      "Epoch 9/50\n",
      "5300/5300 [==============================] - 1s 130us/step - loss: 0.7867 - acc: 0.7434\n",
      "Epoch 10/50\n",
      "5300/5300 [==============================] - 1s 156us/step - loss: 0.7825 - acc: 0.7351\n",
      "Epoch 11/50\n",
      "5300/5300 [==============================] - 1s 140us/step - loss: 0.7755 - acc: 0.7460\n",
      "Epoch 12/50\n",
      "5300/5300 [==============================] - 1s 112us/step - loss: 0.7684 - acc: 0.7483\n",
      "Epoch 13/50\n",
      "5300/5300 [==============================] - 1s 120us/step - loss: 0.7589 - acc: 0.7543\n",
      "Epoch 14/50\n",
      "5300/5300 [==============================] - 1s 120us/step - loss: 0.7442 - acc: 0.7579\n",
      "Epoch 15/50\n",
      "5300/5300 [==============================] - 1s 118us/step - loss: 0.7564 - acc: 0.7542\n",
      "Epoch 16/50\n",
      "5300/5300 [==============================] - 1s 124us/step - loss: 0.7359 - acc: 0.7587\n",
      "Epoch 17/50\n",
      "5300/5300 [==============================] - 1s 137us/step - loss: 0.7351 - acc: 0.7643\n",
      "Epoch 18/50\n",
      "5300/5300 [==============================] - 1s 144us/step - loss: 0.7355 - acc: 0.7609\n",
      "Epoch 19/50\n",
      "5300/5300 [==============================] - 1s 135us/step - loss: 0.7317 - acc: 0.7609\n",
      "Epoch 20/50\n",
      "5300/5300 [==============================] - 1s 139us/step - loss: 0.7253 - acc: 0.7564\n",
      "Epoch 21/50\n",
      "5300/5300 [==============================] - 1s 131us/step - loss: 0.7137 - acc: 0.7657\n",
      "Epoch 22/50\n",
      "5300/5300 [==============================] - 1s 139us/step - loss: 0.7190 - acc: 0.7642\n",
      "Epoch 23/50\n",
      "5300/5300 [==============================] - 1s 134us/step - loss: 0.7114 - acc: 0.7655\n",
      "Epoch 24/50\n",
      "5300/5300 [==============================] - 1s 129us/step - loss: 0.7141 - acc: 0.7636\n",
      "Epoch 25/50\n",
      "5300/5300 [==============================] - 1s 126us/step - loss: 0.7062 - acc: 0.7732\n",
      "Epoch 26/50\n",
      "5300/5300 [==============================] - 1s 136us/step - loss: 0.7148 - acc: 0.7683\n",
      "Epoch 27/50\n",
      "5300/5300 [==============================] - 1s 130us/step - loss: 0.7082 - acc: 0.7696\n",
      "Epoch 28/50\n",
      "5300/5300 [==============================] - 1s 123us/step - loss: 0.7049 - acc: 0.7647\n",
      "Epoch 29/50\n",
      "5300/5300 [==============================] - 1s 136us/step - loss: 0.7009 - acc: 0.7677\n",
      "Epoch 30/50\n",
      "5300/5300 [==============================] - 1s 132us/step - loss: 0.7048 - acc: 0.7709\n",
      "Epoch 31/50\n",
      "5300/5300 [==============================] - 1s 137us/step - loss: 0.7035 - acc: 0.7740\n",
      "Epoch 32/50\n",
      "5300/5300 [==============================] - 1s 134us/step - loss: 0.6924 - acc: 0.7732\n",
      "Epoch 33/50\n",
      "5300/5300 [==============================] - 1s 128us/step - loss: 0.6979 - acc: 0.7662\n",
      "Epoch 34/50\n",
      "5300/5300 [==============================] - 1s 129us/step - loss: 0.6959 - acc: 0.7740\n",
      "Epoch 35/50\n",
      "5300/5300 [==============================] - 1s 133us/step - loss: 0.6865 - acc: 0.7757\n",
      "Epoch 36/50\n",
      "5300/5300 [==============================] - 1s 123us/step - loss: 0.6835 - acc: 0.7742\n",
      "Epoch 37/50\n",
      "5300/5300 [==============================] - 1s 134us/step - loss: 0.6942 - acc: 0.7723\n",
      "Epoch 38/50\n",
      "5300/5300 [==============================] - 1s 159us/step - loss: 0.6818 - acc: 0.7860\n",
      "Epoch 39/50\n",
      "5300/5300 [==============================] - 1s 141us/step - loss: 0.6958 - acc: 0.7730\n",
      "Epoch 40/50\n",
      "5300/5300 [==============================] - 1s 154us/step - loss: 0.6776 - acc: 0.7800\n",
      "Epoch 41/50\n",
      "5300/5300 [==============================] - 1s 124us/step - loss: 0.6824 - acc: 0.7774\n",
      "Epoch 42/50\n",
      "5300/5300 [==============================] - 1s 117us/step - loss: 0.6742 - acc: 0.7866\n",
      "Epoch 43/50\n",
      "5300/5300 [==============================] - 1s 127us/step - loss: 0.6560 - acc: 0.7847\n",
      "Epoch 44/50\n",
      "5300/5300 [==============================] - 1s 110us/step - loss: 0.6813 - acc: 0.7806\n",
      "Epoch 45/50\n",
      "5300/5300 [==============================] - 1s 114us/step - loss: 0.6824 - acc: 0.7811\n",
      "Epoch 46/50\n",
      "5300/5300 [==============================] - 1s 112us/step - loss: 0.6917 - acc: 0.7802\n",
      "Epoch 47/50\n",
      "5300/5300 [==============================] - 1s 112us/step - loss: 0.6725 - acc: 0.7783\n",
      "Epoch 48/50\n",
      "5300/5300 [==============================] - 1s 113us/step - loss: 0.6548 - acc: 0.7879\n",
      "Epoch 49/50\n",
      "5300/5300 [==============================] - 1s 108us/step - loss: 0.6778 - acc: 0.7802\n",
      "Epoch 50/50\n",
      "5300/5300 [==============================] - 1s 110us/step - loss: 0.6493 - acc: 0.7925\n"
     ]
    },
    {
     "data": {
      "text/plain": [
       "<tensorflow.python.keras._impl.keras.callbacks.History at 0x1a2d0ebcc0>"
      ]
     },
     "execution_count": 34,
     "metadata": {},
     "output_type": "execute_result"
    }
   ],
   "source": [
    "class_weight = {0: 1, 1: 4}\n",
    "\n",
    "myCNN1D3.fit(x_train,y_train,epochs=50,verbose=1, class_weight=class_weight)"
   ]
  },
  {
   "cell_type": "code",
   "execution_count": 35,
   "metadata": {
    "scrolled": true
   },
   "outputs": [
    {
     "name": "stdout",
     "output_type": "stream",
     "text": [
      "31779/31779 [==============================] - 1s 44us/step\n",
      "0.7730891469209227\n"
     ]
    }
   ],
   "source": [
    "test_loss,test_acc = myCNN1D3.evaluate(x_test,y_test)\n",
    "print(test_acc)"
   ]
  },
  {
   "cell_type": "code",
   "execution_count": 36,
   "metadata": {
    "scrolled": true
   },
   "outputs": [
    {
     "name": "stdout",
     "output_type": "stream",
     "text": [
      "[[24409  7162]\n",
      " [   49   159]]\n"
     ]
    }
   ],
   "source": [
    "from sklearn import metrics\n",
    "predlabel = myCNN1D3.predict(x_test)\n",
    "f = np.argmax(predlabel,axis=1)\n",
    "confMat = metrics.confusion_matrix(np.argmax(y_test,axis=1),f)\n",
    "print(confMat)"
   ]
  },
  {
   "cell_type": "markdown",
   "metadata": {},
   "source": [
    "## MLP+ CONV: Input => Dense(64) => Conv(2) => Conv(4) = Dense(512) => Dense (2) [Best]"
   ]
  },
  {
   "cell_type": "code",
   "execution_count": 135,
   "metadata": {},
   "outputs": [
    {
     "name": "stdout",
     "output_type": "stream",
     "text": [
      "_________________________________________________________________\n",
      "Layer (type)                 Output Shape              Param #   \n",
      "=================================================================\n",
      "input_13 (InputLayer)        (None, 50, 1)             0         \n",
      "_________________________________________________________________\n",
      "reshape_22 (Reshape)         (None, 50)                0         \n",
      "_________________________________________________________________\n",
      "dense_36 (Dense)             (None, 64)                3264      \n",
      "_________________________________________________________________\n",
      "batch_normalization_40 (Batc (None, 64)                256       \n",
      "_________________________________________________________________\n",
      "activation_52 (Activation)   (None, 64)                0         \n",
      "_________________________________________________________________\n",
      "dropout_22 (Dropout)         (None, 64)                0         \n",
      "_________________________________________________________________\n",
      "reshape_23 (Reshape)         (None, 64, 1)             0         \n",
      "_________________________________________________________________\n",
      "conv1d_17 (Conv1D)           (None, 62, 2)             8         \n",
      "_________________________________________________________________\n",
      "batch_normalization_41 (Batc (None, 62, 2)             8         \n",
      "_________________________________________________________________\n",
      "activation_53 (Activation)   (None, 62, 2)             0         \n",
      "_________________________________________________________________\n",
      "average_pooling1d_15 (Averag (None, 31, 2)             0         \n",
      "_________________________________________________________________\n",
      "conv1d_18 (Conv1D)           (None, 27, 4)             44        \n",
      "_________________________________________________________________\n",
      "batch_normalization_42 (Batc (None, 27, 4)             16        \n",
      "_________________________________________________________________\n",
      "activation_54 (Activation)   (None, 27, 4)             0         \n",
      "_________________________________________________________________\n",
      "average_pooling1d_16 (Averag (None, 13, 4)             0         \n",
      "_________________________________________________________________\n",
      "flatten_10 (Flatten)         (None, 52)                0         \n",
      "_________________________________________________________________\n",
      "dense_37 (Dense)             (None, 512)               27136     \n",
      "_________________________________________________________________\n",
      "batch_normalization_43 (Batc (None, 512)               2048      \n",
      "_________________________________________________________________\n",
      "activation_55 (Activation)   (None, 512)               0         \n",
      "_________________________________________________________________\n",
      "dropout_23 (Dropout)         (None, 512)               0         \n",
      "_________________________________________________________________\n",
      "dense_38 (Dense)             (None, 2)                 1026      \n",
      "_________________________________________________________________\n",
      "activation_56 (Activation)   (None, 2)                 0         \n",
      "=================================================================\n",
      "Total params: 33,806\n",
      "Trainable params: 32,642\n",
      "Non-trainable params: 1,164\n",
      "_________________________________________________________________\n"
     ]
    }
   ],
   "source": [
    "inputs = keras.layers.Input(shape=(x_train.shape[1],1))\n",
    "RS0    = keras.layers.Reshape((x_train.shape[1], ))(inputs)\n",
    "FC0    = keras.layers.Dense(64, bias_initializer=keras.initializers.VarianceScaling())(RS0)\n",
    "BN0    = keras.layers.BatchNormalization(axis=-1)(FC0)\n",
    "AC0    = keras.layers.Activation('relu')(BN0)\n",
    "DP0    = keras.layers.Dropout(0.2)(AC0)\n",
    "\n",
    "RS1    = keras.layers.Reshape((64,1))(DP0)\n",
    "FC1    = keras.layers.Conv1D(2,3,strides=1)(RS1)\n",
    "BN1    = keras.layers.BatchNormalization(axis=-1)(FC1)\n",
    "AC1    = keras.layers.Activation('relu')(BN1)\n",
    "Pool1  = keras.layers.AveragePooling1D(pool_size=2)(AC1)\n",
    "\n",
    "FC2    = keras.layers.Conv1D(4,5,strides=1)(Pool1)\n",
    "BN2    = keras.layers.BatchNormalization(axis=-1)(FC2)\n",
    "AC2    = keras.layers.Activation('relu')(BN2)\n",
    "Pool2  = keras.layers.AveragePooling1D(pool_size=2)(AC2)\n",
    "\n",
    "FL1    = keras.layers.Flatten()(Pool2)\n",
    "\n",
    "FC3    = keras.layers.Dense(512, bias_initializer=keras.initializers.VarianceScaling())(FL1)\n",
    "BN3    = keras.layers.BatchNormalization(axis=-1)(FC3)\n",
    "AC3    = keras.layers.Activation('relu')(BN3)\n",
    "DP3    = keras.layers.Dropout(0.2)(AC3)\n",
    "\n",
    "\n",
    "FC4    = keras.layers.Dense(2)(DP3)\n",
    "outputs = keras.layers.Activation('softmax')(FC4)\n",
    "\n",
    "myCNN1D4 = keras.Model(inputs=inputs,outputs=outputs)\n",
    "myCNN1D4.compile(optimizer=keras.optimizers.Adam(),\n",
    "                 loss='categorical_crossentropy',\n",
    "                 metrics=['accuracy'])\n",
    "\n",
    "myCNN1D4.summary()"
   ]
  },
  {
   "cell_type": "code",
   "execution_count": 140,
   "metadata": {
    "scrolled": true
   },
   "outputs": [
    {
     "name": "stdout",
     "output_type": "stream",
     "text": [
      "Epoch 1/50\n",
      "2800/2800 [==============================] - 1s 184us/step - loss: 0.2758 - acc: 0.8861\n",
      "Epoch 2/50\n",
      "2800/2800 [==============================] - 0s 168us/step - loss: 0.2748 - acc: 0.8804\n",
      "Epoch 3/50\n",
      "2800/2800 [==============================] - 1s 209us/step - loss: 0.2723 - acc: 0.8879\n",
      "Epoch 4/50\n",
      "2800/2800 [==============================] - 1s 206us/step - loss: 0.2896 - acc: 0.8739\n",
      "Epoch 5/50\n",
      "2800/2800 [==============================] - 0s 174us/step - loss: 0.2706 - acc: 0.8896\n",
      "Epoch 6/50\n",
      "2800/2800 [==============================] - 0s 178us/step - loss: 0.2833 - acc: 0.8807\n",
      "Epoch 7/50\n",
      "2800/2800 [==============================] - 1s 213us/step - loss: 0.2720 - acc: 0.8836\n",
      "Epoch 8/50\n",
      "2800/2800 [==============================] - 1s 183us/step - loss: 0.2921 - acc: 0.8793\n",
      "Epoch 9/50\n",
      "2800/2800 [==============================] - 1s 180us/step - loss: 0.2847 - acc: 0.8821\n",
      "Epoch 10/50\n",
      "2800/2800 [==============================] - 0s 177us/step - loss: 0.2732 - acc: 0.8825\n",
      "Epoch 11/50\n",
      "2800/2800 [==============================] - 1s 226us/step - loss: 0.2793 - acc: 0.8821\n",
      "Epoch 12/50\n",
      "2800/2800 [==============================] - 1s 197us/step - loss: 0.2690 - acc: 0.8939\n",
      "Epoch 13/50\n",
      "2800/2800 [==============================] - 1s 183us/step - loss: 0.2687 - acc: 0.8861\n",
      "Epoch 14/50\n",
      "2800/2800 [==============================] - 1s 237us/step - loss: 0.2820 - acc: 0.8846\n",
      "Epoch 15/50\n",
      "2800/2800 [==============================] - 1s 217us/step - loss: 0.2898 - acc: 0.8754\n",
      "Epoch 16/50\n",
      "2800/2800 [==============================] - 1s 213us/step - loss: 0.2728 - acc: 0.8825\n",
      "Epoch 17/50\n",
      "2800/2800 [==============================] - 1s 208us/step - loss: 0.2627 - acc: 0.8893\n",
      "Epoch 18/50\n",
      "2800/2800 [==============================] - 1s 194us/step - loss: 0.2681 - acc: 0.8893\n",
      "Epoch 19/50\n",
      "2800/2800 [==============================] - 1s 204us/step - loss: 0.2549 - acc: 0.8989\n",
      "Epoch 20/50\n",
      "2800/2800 [==============================] - 1s 201us/step - loss: 0.2674 - acc: 0.8904\n",
      "Epoch 21/50\n",
      "2800/2800 [==============================] - 1s 198us/step - loss: 0.2639 - acc: 0.8861\n",
      "Epoch 22/50\n",
      "2800/2800 [==============================] - 1s 197us/step - loss: 0.2585 - acc: 0.8946\n",
      "Epoch 23/50\n",
      "2800/2800 [==============================] - 1s 201us/step - loss: 0.2665 - acc: 0.8800\n",
      "Epoch 24/50\n",
      "2800/2800 [==============================] - 1s 196us/step - loss: 0.2761 - acc: 0.8821\n",
      "Epoch 25/50\n",
      "2800/2800 [==============================] - 1s 203us/step - loss: 0.2772 - acc: 0.8871\n",
      "Epoch 26/50\n",
      "2800/2800 [==============================] - 1s 208us/step - loss: 0.2622 - acc: 0.8807\n",
      "Epoch 27/50\n",
      "2800/2800 [==============================] - 1s 184us/step - loss: 0.2502 - acc: 0.8932\n",
      "Epoch 28/50\n",
      "2800/2800 [==============================] - 1s 194us/step - loss: 0.2657 - acc: 0.8893\n",
      "Epoch 29/50\n",
      "2800/2800 [==============================] - 1s 196us/step - loss: 0.2540 - acc: 0.8911\n",
      "Epoch 30/50\n",
      "2800/2800 [==============================] - 1s 194us/step - loss: 0.2551 - acc: 0.8886\n",
      "Epoch 31/50\n",
      "2800/2800 [==============================] - 1s 197us/step - loss: 0.2700 - acc: 0.8882\n",
      "Epoch 32/50\n",
      "2800/2800 [==============================] - 1s 188us/step - loss: 0.2711 - acc: 0.8829\n",
      "Epoch 33/50\n",
      "2800/2800 [==============================] - 1s 231us/step - loss: 0.2618 - acc: 0.8839\n",
      "Epoch 34/50\n",
      "2800/2800 [==============================] - 1s 186us/step - loss: 0.2647 - acc: 0.8893\n",
      "Epoch 35/50\n",
      "2800/2800 [==============================] - 1s 208us/step - loss: 0.2676 - acc: 0.8871\n",
      "Epoch 36/50\n",
      "2800/2800 [==============================] - 1s 188us/step - loss: 0.2563 - acc: 0.8879\n",
      "Epoch 37/50\n",
      "2800/2800 [==============================] - 1s 202us/step - loss: 0.2573 - acc: 0.8918\n",
      "Epoch 38/50\n",
      "2800/2800 [==============================] - 1s 195us/step - loss: 0.2521 - acc: 0.8957\n",
      "Epoch 39/50\n",
      "2800/2800 [==============================] - 1s 197us/step - loss: 0.2576 - acc: 0.8846\n",
      "Epoch 40/50\n",
      "2800/2800 [==============================] - 1s 193us/step - loss: 0.2668 - acc: 0.8871\n",
      "Epoch 41/50\n",
      "2800/2800 [==============================] - 1s 189us/step - loss: 0.2327 - acc: 0.9039\n",
      "Epoch 42/50\n",
      "2800/2800 [==============================] - 1s 182us/step - loss: 0.2646 - acc: 0.8904\n",
      "Epoch 43/50\n",
      "2800/2800 [==============================] - 1s 194us/step - loss: 0.2577 - acc: 0.8921\n",
      "Epoch 44/50\n",
      "2800/2800 [==============================] - 1s 191us/step - loss: 0.2558 - acc: 0.8914\n",
      "Epoch 45/50\n",
      "2800/2800 [==============================] - 1s 197us/step - loss: 0.2478 - acc: 0.8971\n",
      "Epoch 46/50\n",
      "2800/2800 [==============================] - 1s 198us/step - loss: 0.2532 - acc: 0.8914\n",
      "Epoch 47/50\n",
      "2800/2800 [==============================] - 1s 193us/step - loss: 0.2498 - acc: 0.8961\n",
      "Epoch 48/50\n",
      "2800/2800 [==============================] - 1s 222us/step - loss: 0.2534 - acc: 0.8886\n",
      "Epoch 49/50\n",
      "2800/2800 [==============================] - 1s 193us/step - loss: 0.2463 - acc: 0.8957\n",
      "Epoch 50/50\n",
      "2800/2800 [==============================] - 1s 213us/step - loss: 0.2667 - acc: 0.8875\n",
      "dict_keys(['loss', 'acc'])\n"
     ]
    },
    {
     "data": {
      "image/png": "[encoded data removed]",
      "text/plain": [
       "<Figure size 432x288 with 1 Axes>"
      ]
     },
     "metadata": {},
     "output_type": "display_data"
    },
    {
     "data": {
      "image/png": "[encoded data removed]",
      "text/plain": [
       "<Figure size 432x288 with 1 Axes>"
      ]
     },
     "metadata": {},
     "output_type": "display_data"
    }
   ],
   "source": [
    "class_weight = {0: 1, 1: 1}\n",
    "\n",
    "history = myCNN1D4.fit(x_train,y_train,epochs=50,verbose=1, class_weight=class_weight)\n",
    "\n",
    "# list all data in history\n",
    "print(history.history.keys())\n",
    "# summarize history for accuracy\n",
    "plt.plot(history.history['acc'])\n",
    "plt.title('model accuracy')\n",
    "plt.ylabel('accuracy')\n",
    "plt.xlabel('epoch')\n",
    "plt.legend(['train', 'test'], loc='upper left')\n",
    "plt.show()\n",
    "# summarize history for loss\n",
    "plt.plot(history.history['loss'])\n",
    "plt.title('model loss')\n",
    "plt.ylabel('loss')\n",
    "plt.xlabel('epoch')\n",
    "plt.legend(['train', 'test'], loc='upper left')\n",
    "plt.show()"
   ]
  },
  {
   "cell_type": "code",
   "execution_count": 141,
   "metadata": {
    "scrolled": false
   },
   "outputs": [
    {
     "name": "stdout",
     "output_type": "stream",
     "text": [
      "34279/34279 [==============================] - 2s 64us/step\n",
      "0.7116602001242628\n"
     ]
    }
   ],
   "source": [
    "test_loss,test_acc = myCNN1D4.evaluate(x_test,y_test)\n",
    "print(test_acc)"
   ]
  },
  {
   "cell_type": "code",
   "execution_count": 142,
   "metadata": {},
   "outputs": [
    {
     "name": "stdout",
     "output_type": "stream",
     "text": [
      "Confusion Matrix:  24230 9841 43 165\n",
      "Recall:  79.32692307692307\n",
      "Precision:  1.6490105936438137\n",
      "Specificity:  71.1161985266062\n",
      "Type I error:  20.673076923076927\n",
      "Type II error:  28.8838014733938\n",
      "AUC:  75.22156080176462\n"
     ]
    },
    {
     "data": {
      "image/png": "[encoded data removed]",
      "text/plain": [
       "<Figure size 432x288 with 1 Axes>"
      ]
     },
     "metadata": {},
     "output_type": "display_data"
    }
   ],
   "source": [
    "from sklearn import metrics\n",
    "from sklearn.metrics import confusion_matrix, precision_score, recall_score, f1_score, cohen_kappa_score\n",
    "from sklearn.metrics import roc_curve\n",
    "from sklearn.metrics import auc\n",
    "predlabel = myCNN1D4.predict(x_test)\n",
    "f = np.argmax(predlabel,axis=1)\n",
    "tn_test, fp_test, fn_test, tp_test = metrics.confusion_matrix(np.argmax(y_test,axis=1),f).flatten()\n",
    "\n",
    "type_I_error_test = (1 - (tp_test/(tp_test+fn_test))) * 100\n",
    "type_II_error_test = (1 - (tn_test/(tn_test+fp_test))) * 100\n",
    "\n",
    "print(\"Confusion Matrix: \", tn_test, fp_test, fn_test, tp_test)\n",
    "print(\"Recall: \", (tp_test/(tp_test+fn_test))*100)\n",
    "print(\"Precision: \", (tp_test/(tp_test+fp_test))*100)\n",
    "print(\"Specificity: \", (tn_test/(tn_test+fp_test))*100)\n",
    "print(\"Type I error: \", type_I_error_test)\n",
    "print(\"Type II error: \", type_II_error_test)\n",
    "\n",
    "fpr_keras, tpr_keras, thresholds_keras = roc_curve(np.argmax(y_test,axis=1),f)\n",
    "from sklearn.metrics import auc\n",
    "auc = auc(fpr_keras, tpr_keras)\n",
    "print(\"AUC: \", auc*100)\n",
    "\n",
    "# plot no skill\n",
    "plt.plot([0, 1], [0, 1], linestyle='--')\n",
    "# plot the roc curve for the model\n",
    "plt.plot(fpr_keras, tpr_keras, marker='.', label='Keras (area = {:.3f})'.format(auc))\n",
    "plt.xlabel('False positive rate')\n",
    "plt.ylabel('True positive rate')\n",
    "plt.title('ROC curve')\n",
    "#plt.legend(loc='best')\n",
    "# show the plot\n",
    "plt.show()  "
   ]
  },
  {
   "cell_type": "markdown",
   "metadata": {},
   "source": [
    "# The following section shows the result when 70% of data are used for training"
   ]
  },
  {
   "cell_type": "code",
   "execution_count": 41,
   "metadata": {},
   "outputs": [],
   "source": [
    "# With train-test split\n",
    "from sklearn.model_selection import train_test_split\n",
    "X_train, X_test, Y_train, Y_test = train_test_split(reduced_data, opLabel, test_size = 0.3, random_state = 24)"
   ]
  },
  {
   "cell_type": "code",
   "execution_count": 42,
   "metadata": {},
   "outputs": [],
   "source": [
    "scaler = preprocessing.StandardScaler().fit(X_train)\n",
    "X_train = scaler.transform(X_train)\n",
    "X_test  = scaler.transform(X_test)\n",
    "X_train = X_train.reshape(X_train.shape[0],X_train.shape[1],1)\n",
    "X_test = X_test.reshape(X_test.shape[0],X_test.shape[1],1)"
   ]
  },
  {
   "cell_type": "code",
   "execution_count": 43,
   "metadata": {},
   "outputs": [],
   "source": [
    "#%% one-hot-encoding\n",
    "Y_train = keras.utils.to_categorical(Y_train,2)\n",
    "Y_test  = keras.utils.to_categorical(Y_test,2)"
   ]
  },
  {
   "cell_type": "code",
   "execution_count": 44,
   "metadata": {},
   "outputs": [
    {
     "name": "stdout",
     "output_type": "stream",
     "text": [
      "_________________________________________________________________\n",
      "Layer (type)                 Output Shape              Param #   \n",
      "=================================================================\n",
      "input_7 (InputLayer)         (None, 50, 1)             0         \n",
      "_________________________________________________________________\n",
      "reshape_11 (Reshape)         (None, 50)                0         \n",
      "_________________________________________________________________\n",
      "dense_18 (Dense)             (None, 512)               26112     \n",
      "_________________________________________________________________\n",
      "batch_normalization_18 (Batc (None, 512)               2048      \n",
      "_________________________________________________________________\n",
      "activation_24 (Activation)   (None, 512)               0         \n",
      "_________________________________________________________________\n",
      "dropout_10 (Dropout)         (None, 512)               0         \n",
      "_________________________________________________________________\n",
      "dense_19 (Dense)             (None, 128)               65664     \n",
      "_________________________________________________________________\n",
      "batch_normalization_19 (Batc (None, 128)               512       \n",
      "_________________________________________________________________\n",
      "activation_25 (Activation)   (None, 128)               0         \n",
      "_________________________________________________________________\n",
      "dropout_11 (Dropout)         (None, 128)               0         \n",
      "_________________________________________________________________\n",
      "dense_20 (Dense)             (None, 2)                 258       \n",
      "_________________________________________________________________\n",
      "activation_26 (Activation)   (None, 2)                 0         \n",
      "=================================================================\n",
      "Total params: 94,594\n",
      "Trainable params: 93,314\n",
      "Non-trainable params: 1,280\n",
      "_________________________________________________________________\n"
     ]
    }
   ],
   "source": [
    "# MLP -2\n",
    "inputs = keras.layers.Input(shape=(x_train.shape[1],1))\n",
    "RS0    = keras.layers.Reshape((x_train.shape[1], ))(inputs)\n",
    "FC0    = keras.layers.Dense(512, bias_initializer=keras.initializers.VarianceScaling())(RS0)\n",
    "BN0    = keras.layers.BatchNormalization(axis=-1)(FC0)\n",
    "AC0    = keras.layers.Activation('relu')(BN0)\n",
    "DP0    = keras.layers.Dropout(0.2)(AC0)\n",
    "\n",
    "FC1    = keras.layers.Dense(128, bias_initializer=keras.initializers.VarianceScaling())(DP0)\n",
    "BN1    = keras.layers.BatchNormalization(axis=-1)(FC1)\n",
    "AC1    = keras.layers.Activation('relu')(BN1)\n",
    "DP1    = keras.layers.Dropout(0.2)(AC1)\n",
    "\n",
    "\n",
    "FC2 =   keras.layers.Dense(2, bias_initializer=keras.initializers.VarianceScaling())(DP1)\n",
    "outputs = keras.layers.Activation('softmax')(FC2)\n",
    "\n",
    "myMLP = keras.Model(inputs=inputs,outputs=outputs)\n",
    "myMLP.compile(optimizer=keras.optimizers.Adam(lr=0.01),\n",
    "                 loss='categorical_crossentropy',\n",
    "                 metrics=['accuracy'])\n",
    "myMLP.summary()"
   ]
  },
  {
   "cell_type": "code",
   "execution_count": 45,
   "metadata": {},
   "outputs": [
    {
     "data": {
      "text/plain": [
       "(25955,)"
      ]
     },
     "execution_count": 45,
     "metadata": {},
     "output_type": "execute_result"
    }
   ],
   "source": [
    "np.where(Y_train==0)[0].shape\n",
    "np.where(Y_train==1)[0].shape"
   ]
  },
  {
   "cell_type": "code",
   "execution_count": 46,
   "metadata": {
    "scrolled": true
   },
   "outputs": [
    {
     "name": "stdout",
     "output_type": "stream",
     "text": [
      "Epoch 1/10\n",
      "25955/25955 [==============================] - 2s 63us/step - loss: 1.4859 - acc: 0.6587\n",
      "Epoch 2/10\n",
      "25955/25955 [==============================] - 1s 23us/step - loss: 1.1220 - acc: 0.6680\n",
      "Epoch 3/10\n",
      "25955/25955 [==============================] - 1s 23us/step - loss: 1.0302 - acc: 0.6938\n",
      "Epoch 4/10\n",
      "25955/25955 [==============================] - 1s 24us/step - loss: 1.0092 - acc: 0.7024\n",
      "Epoch 5/10\n",
      "25955/25955 [==============================] - 1s 24us/step - loss: 0.9880 - acc: 0.6999\n",
      "Epoch 6/10\n",
      "25955/25955 [==============================] - 1s 30us/step - loss: 0.9397 - acc: 0.7081\n",
      "Epoch 7/10\n",
      "25955/25955 [==============================] - 1s 27us/step - loss: 0.9166 - acc: 0.7132\n",
      "Epoch 8/10\n",
      "25955/25955 [==============================] - 1s 30us/step - loss: 0.9124 - acc: 0.7246\n",
      "Epoch 9/10\n",
      "25955/25955 [==============================] - 1s 25us/step - loss: 0.8910 - acc: 0.7193\n",
      "Epoch 10/10\n",
      "25955/25955 [==============================] - 1s 30us/step - loss: 0.8475 - acc: 0.7383\n"
     ]
    },
    {
     "data": {
      "text/plain": [
       "<tensorflow.python.keras._impl.keras.callbacks.History at 0x1a2fc5cdd8>"
      ]
     },
     "execution_count": 46,
     "metadata": {},
     "output_type": "execute_result"
    }
   ],
   "source": [
    "class_weight = {0: 1, 1: 40}\n",
    "\n",
    "myMLP.fit(X_train,Y_train,epochs=10,batch_size=1200,verbose=1, class_weight=class_weight)"
   ]
  },
  {
   "cell_type": "code",
   "execution_count": 47,
   "metadata": {},
   "outputs": [
    {
     "name": "stdout",
     "output_type": "stream",
     "text": [
      "11124/11124 [==============================] - 1s 63us/step\n",
      "0.7381337648756596\n"
     ]
    }
   ],
   "source": [
    "test_loss,test_acc = myMLP.evaluate(X_test,Y_test)\n",
    "print(test_acc)"
   ]
  },
  {
   "cell_type": "code",
   "execution_count": 48,
   "metadata": {},
   "outputs": [
    {
     "name": "stdout",
     "output_type": "stream",
     "text": [
      "[[7847 2812]\n",
      " [ 101  364]]\n"
     ]
    }
   ],
   "source": [
    "from sklearn import metrics\n",
    "predlabel = myMLP.predict(X_test)\n",
    "f = np.argmax(predlabel,axis=1)\n",
    "confMat = metrics.confusion_matrix(np.argmax(Y_test,axis=1),f)\n",
    "print(confMat)"
   ]
  },
  {
   "cell_type": "code",
   "execution_count": null,
   "metadata": {},
   "outputs": [],
   "source": []
  }
 ],
 "metadata": {
  "kernelspec": {
   "display_name": "Python 3",
   "language": "python",
   "name": "python3"
  },
  "language_info": {
   "codemirror_mode": {
    "name": "ipython",
    "version": 3
   },
   "file_extension": ".py",
   "mimetype": "text/x-python",
   "name": "python",
   "nbconvert_exporter": "python",
   "pygments_lexer": "ipython3",
   "version": "3.6.5"
  }
 },
 "nbformat": 4,
 "nbformat_minor": 2
}
